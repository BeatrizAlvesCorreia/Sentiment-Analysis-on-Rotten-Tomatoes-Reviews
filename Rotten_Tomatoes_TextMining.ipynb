{
  "cells": [
    {
      "cell_type": "markdown",
      "metadata": {
        "id": "5OxjDtrdd92s"
      },
      "source": [
        "## Rotten Tomatoes Sentiment Analysis\n",
        "- Beatriz Correia Paulino \n",
        "- Luís Pereira"
      ]
    },
    {
      "cell_type": "code",
      "execution_count": 1,
      "metadata": {
        "id": "Y01z_Mwkd92u"
      },
      "outputs": [
        {
          "name": "stderr",
          "output_type": "stream",
          "text": [
            "c:\\Users\\beatr\\anaconda3\\envs\\pyspark_env\\Lib\\site-packages\\tqdm\\auto.py:21: TqdmWarning: IProgress not found. Please update jupyter and ipywidgets. See https://ipywidgets.readthedocs.io/en/stable/user_install.html\n",
            "  from .autonotebook import tqdm as notebook_tqdm\n"
          ]
        }
      ],
      "source": [
        "# Necessary Imports\n",
        "import pandas as pd\n",
        "import numpy as np\n",
        "import matplotlib.pyplot as plt\n",
        "import seaborn as sns\n",
        "\n",
        "# Baseline Model\n",
        "import nltk\n",
        "from nltk.sentiment import SentimentIntensityAnalyzer\n",
        "import stanza\n",
        "\n",
        "# Pre Processing\n",
        "from nltk.tokenize import word_tokenize\n",
        "from nltk.stem import PorterStemmer\n",
        "from nltk import ne_chunk\n",
        "from nltk.tree import Tree\n",
        "from nltk import WordNetLemmatizer\n",
        "import spacy\n",
        "from nltk.corpus import stopwords\n",
        "import regex as re\n",
        "#nltk.download('punkt')\n",
        "#nltk.download('averaged_perceptron_tagger')\n",
        "#nltk.download('stopwords')\n",
        "\n",
        "# Model Evaluation\n",
        "from sklearn.metrics import classification_report\n",
        "\n",
        "# Machine Learning\n",
        "from collections import Counter #bag of words\n",
        "from sklearn.feature_extraction.text import TfidfVectorizer\n",
        "from sklearn.feature_extraction import DictVectorizer\n",
        "from sklearn.model_selection import train_test_split\n",
        "from sklearn.linear_model import LogisticRegression\n",
        "from sklearn.svm import SVC\n",
        "from sklearn.preprocessing import FunctionTransformer\n",
        "from sklearn.compose import ColumnTransformer\n",
        "from sklearn.preprocessing import MultiLabelBinarizer\n",
        "from sklearn.naive_bayes import MultinomialNB\n",
        "from sklearn.pipeline import Pipeline\n",
        "from sklearn.feature_extraction.text import CountVectorizer\n",
        "import ast # to maintain lists stored in dfs\n",
        "from ast import literal_eval\n",
        "\n",
        "# Transformers\n",
        "from tqdm import tqdm # progression bar\n",
        "from transformers import pipeline\n",
        "import datasets\n",
        "from datasets import Dataset, load_metric\n",
        "from transformers import DistilBertTokenizerFast, DistilBertForSequenceClassification, DataCollatorWithPadding, TrainingArguments, Trainer\n",
        "\n",
        "\n",
        "# Generative Models\n",
        "import openai\n",
        "\n",
        "\n",
        "# Outros\n",
        "from scipy.sparse import hstack\n"
      ]
    },
    {
      "cell_type": "markdown",
      "metadata": {
        "id": "2j5c-Wq8d92w"
      },
      "source": [
        "### Loading Data"
      ]
    },
    {
      "cell_type": "code",
      "execution_count": null,
      "metadata": {
        "id": "FxUyJ9rdd92w"
      },
      "outputs": [],
      "source": [
        "# Load the data\n",
        "df_test = pd.read_csv('rotten_tomatoes_test.tsv', sep='\\t', header=None)\n",
        "df_train = pd.read_csv('rotten_tomatoes_train.tsv', sep='\\t', header=None)"
      ]
    },
    {
      "cell_type": "code",
      "execution_count": null,
      "metadata": {
        "colab": {
          "base_uri": "https://localhost:8080/",
          "height": 424
        },
        "id": "z0DO7sLYd92w",
        "outputId": "a56ec7fe-7bf5-4631-9833-b24eb94c9f70"
      },
      "outputs": [],
      "source": [
        "# First look into the train dataset\n",
        "df_train"
      ]
    },
    {
      "cell_type": "code",
      "execution_count": null,
      "metadata": {
        "colab": {
          "base_uri": "https://localhost:8080/",
          "height": 424
        },
        "id": "IhnDOafrd92w",
        "outputId": "63c6d3a3-d048-4f7b-b6cc-71ae8cfdf827"
      },
      "outputs": [],
      "source": [
        "# First look into the test dataset\n",
        "df_test"
      ]
    },
    {
      "cell_type": "code",
      "execution_count": null,
      "metadata": {
        "colab": {
          "base_uri": "https://localhost:8080/"
        },
        "id": "mEJ8oV53d92x",
        "outputId": "5ec0011a-e060-496d-dd93-d4cd046801df"
      },
      "outputs": [],
      "source": [
        "df_train.info()"
      ]
    },
    {
      "cell_type": "code",
      "execution_count": null,
      "metadata": {
        "colab": {
          "base_uri": "https://localhost:8080/"
        },
        "id": "ujlloHLFd92x",
        "outputId": "73d56166-711c-4823-bdc7-d3e0ea4f4b61"
      },
      "outputs": [],
      "source": [
        "df_test.info()"
      ]
    },
    {
      "cell_type": "markdown",
      "metadata": {
        "id": "5cSl6aeBd92x"
      },
      "source": [
        "### Data Pre-Processing\n",
        "- Change column names\n",
        "- New Column: 'sentiment_numeric'"
      ]
    },
    {
      "cell_type": "code",
      "execution_count": null,
      "metadata": {
        "id": "GdMkqHXCd92x"
      },
      "outputs": [],
      "source": [
        "# Change column names\n",
        "columns = ['id', 'sentiment', 'review']\n",
        "df_train.columns = columns\n",
        "df_test.columns = columns"
      ]
    },
    {
      "cell_type": "code",
      "execution_count": null,
      "metadata": {
        "colab": {
          "base_uri": "https://localhost:8080/"
        },
        "id": "30sHKv-Qd92x",
        "outputId": "0fa7596e-e342-4174-9e8d-1f5e8a99b57c"
      },
      "outputs": [],
      "source": [
        "# Check the changes\n",
        "df_train.info()"
      ]
    },
    {
      "cell_type": "code",
      "execution_count": null,
      "metadata": {
        "id": "rEZhR6E8d92y"
      },
      "outputs": [],
      "source": [
        "# Mapping sentiment labels from positive, negative, neutral to 1, -1, 0\n",
        "\n",
        "# Function to map sentiments to numeric values\n",
        "def map_sentiment_to_numeric(sentiment):\n",
        "    if sentiment == 'negative':\n",
        "        return -1\n",
        "    elif sentiment == 'neutral':\n",
        "        return 0\n",
        "    elif sentiment == 'positive':\n",
        "        return 1\n",
        "\n",
        "# Applying the mapping function to the 'sentiment' column\n",
        "df_train['sentiment_numeric'] = df_train['sentiment'].apply(map_sentiment_to_numeric)\n",
        "df_test['sentiment_numeric'] = df_test['sentiment'].apply(map_sentiment_to_numeric)"
      ]
    },
    {
      "cell_type": "code",
      "execution_count": null,
      "metadata": {
        "colab": {
          "base_uri": "https://localhost:8080/",
          "height": 206
        },
        "id": "eowNEsKpd92y",
        "outputId": "864c2761-93e4-453b-92d9-085cbfe6be18"
      },
      "outputs": [],
      "source": [
        "# Check the changes\n",
        "df_train.head()"
      ]
    },
    {
      "cell_type": "code",
      "execution_count": null,
      "metadata": {},
      "outputs": [],
      "source": [
        "# Check how many of each label there is \n",
        "positive_count_test = df_test[df_test['sentiment'] == 'positive'].shape[0]\n",
        "negative_count_test = df_test[df_test['sentiment'] == 'negative'].shape[0]\n",
        "neutral_count_test = df_test[df_test['sentiment'] == 'neutral'].shape[0]\n",
        "\n",
        "positive_count_train = df_train[df_train['sentiment'] == 'positive'].shape[0]\n",
        "negative_count_train = df_train[df_train['sentiment'] == 'negative'].shape[0]\n",
        "neutral_count_train = df_train[df_train['sentiment'] == 'neutral'].shape[0]\n",
        "\n",
        "print(\"Test Data - Positive:\", positive_count_test, \"Negative:\", negative_count_test, \"Neutral:\", neutral_count_test)\n",
        "print(\"Train Data - Positive:\", positive_count_train, \"Negative:\", negative_count_train, \"Neutral:\", neutral_count_train)"
      ]
    },
    {
      "cell_type": "markdown",
      "metadata": {
        "id": "dzT-FXrDd92y"
      },
      "source": [
        "## Baseline Model\n",
        "- VaderSentiment\n",
        "- Stanza"
      ]
    },
    {
      "cell_type": "markdown",
      "metadata": {
        "id": "E92FaAnNd92y"
      },
      "source": [
        "### VaderSentiment Baseline Model\n",
        "- Compound Score >= 0.05 -> Positive\n",
        "- Compound Score <= -0.05 -> Negative\n",
        "- Compund Score ]-.05, 0.05[ -> Neutral"
      ]
    },
    {
      "cell_type": "code",
      "execution_count": null,
      "metadata": {
        "id": "fGaYrRtLd92y"
      },
      "outputs": [],
      "source": [
        "# Initialize the VADER sentiment intensity analyzer\n",
        "sia = SentimentIntensityAnalyzer()"
      ]
    },
    {
      "cell_type": "code",
      "execution_count": null,
      "metadata": {
        "id": "ffKHTvIFd92y"
      },
      "outputs": [],
      "source": [
        "# Function to convert VADER compound score to -1, 0, 1\n",
        "def sentiment_score_to_label(compound_score):\n",
        "    if compound_score <= -0.05:\n",
        "        return -1  # Negative\n",
        "    elif compound_score >= 0.05:\n",
        "        return 1   # Positive\n",
        "    else:\n",
        "        return 0   # Neutral"
      ]
    },
    {
      "cell_type": "code",
      "execution_count": null,
      "metadata": {
        "id": "xCO_oqKGd92z"
      },
      "outputs": [],
      "source": [
        "# Applying VADER to predict sentiment scores and convert to labels\n",
        "df_test['vader_predicted_sentiment'] = df_test.iloc[:, 2].apply(lambda x: sentiment_score_to_label(sia.polarity_scores(x)['compound']))\n",
        "df_test['vader_compound_score'] = df_test.iloc[:, 2].apply(lambda x: sia.polarity_scores(x)['compound'])"
      ]
    },
    {
      "cell_type": "code",
      "execution_count": null,
      "metadata": {
        "id": "LaUZG7Yad92z",
        "outputId": "4ea6b2ff-4312-46ac-d61f-5e693f26369f"
      },
      "outputs": [],
      "source": [
        "# Check the new columns\n",
        "df_test.head()"
      ]
    },
    {
      "cell_type": "code",
      "execution_count": null,
      "metadata": {
        "id": "vFfmTQztd92z",
        "outputId": "ede10a6a-dff9-4d12-96ba-5d2b429c6826"
      },
      "outputs": [],
      "source": [
        "# Evaluate the VADER model\n",
        "print(classification_report(df_test['sentiment_numeric'], df_test['vader_predicted_sentiment']))"
      ]
    },
    {
      "cell_type": "markdown",
      "metadata": {
        "id": "-RZZSdd5d92z"
      },
      "source": [
        "### Stanza Approach"
      ]
    },
    {
      "cell_type": "markdown",
      "metadata": {
        "id": "jYWhQxL_d92z"
      },
      "source": [
        "Stanza Models label sentiments with 0,1,2 which are changed by us to the follow:\n",
        "- Negative (0) -> -1\n",
        "- Neutral (1) -> 0\n",
        "- Positive (2) -> 1"
      ]
    },
    {
      "cell_type": "code",
      "execution_count": null,
      "metadata": {
        "id": "g_EyYKq6d92z"
      },
      "outputs": [],
      "source": [
        "# This downloads the English models for the neural pipeline\n",
        "#stanza.download('en')"
      ]
    },
    {
      "cell_type": "code",
      "execution_count": null,
      "metadata": {
        "colab": {
          "base_uri": "https://localhost:8080/",
          "height": 588,
          "referenced_widgets": [
            "7131d5312b6249988594bc88ccc092f3",
            "27197623dab24c28955e0c64ec025ce3",
            "842d2dd4a14b4da290d52c31309626d0",
            "1ee684f0668446f1a2eb49216d3f6a5f",
            "f1e3bc6c6b964ff19bc1ab3b5967b873",
            "c097b3dd23b74bd986ff31dc066c6380",
            "702271f06d014cccb2ada33014ca0a30",
            "6b4e94b8618d486f83b1ce5328465932",
            "aa7cfac3a7cc45a39250aa203f9f431a",
            "57fe2ee4135543a1bc0187153a033afa",
            "c9fb43116fea41efb03e9243a3d0a7dc",
            "bcbcd50320284beeac6cfb7a461bedcc",
            "4a95334d50704a48aa62394cd620484f",
            "5436b424d480498f9096ef4ff26e0f59",
            "8c7f5cf922784ef993125bfe33c2979a",
            "4d63d54e7899473e90410da9e0c11eb9",
            "36337bdbde404a30a0fa19db9720ea71",
            "9ef99bdbbae044d6a58bcbf0f279894f",
            "780aec7f9a414870a9098d7ccc2d25a1",
            "ddf20cea0161483c85c5989bcd50952b",
            "a7db4ebded034c5fa04c147791da3eb4",
            "b0d7dcc880f84c6eacae114000555c5a",
            "897e7281bc6e4847a4b14e7df89b9244",
            "84668e9448664c408044df8003438471",
            "ec324b14eb274a6a82514c337468bf89",
            "246ca019344d4df8af5818e45f116005",
            "1fcef5f1e42749b2b7de52009e8091f9",
            "2409cfbdbfad463f88cf29eb5ad51899",
            "cedf661f88f3472d832b34a2380c93fe",
            "a0f0b1d011c94daf9c66740ff2c3f098",
            "dfe9d0b50a8e42d7b6e42bbeb7d5c6b5",
            "76fd44c11a8f48a38afb33bc9adf7a42",
            "e399aaf1ff784a37a4a37089a989baea",
            "0e61cc18aed84451945718bc9d0a19a9",
            "06b55af9438c4605b61ca4e52d787299",
            "e1de369b51f34d7abd017d2c5d47fba8",
            "f7184b15e562491d94aa8bbb014d8a8d",
            "56c8d37bc6af47e1b81f4b5a2084c283",
            "30ee589c2fb44f9b94f852570877845f",
            "6fa49aeb21e04d9c9e7116d5126d9a60",
            "c55556d320e74e3dab1351118f7d5468",
            "c434dd1c18d241d6a15d6f3268e76dc7",
            "5e9269de55134f38ade109b4751607ea",
            "ef64841f5fec4d7d876df9da5fcae61e",
            "346cb770e005428790f1428353f50ef3",
            "9af95c292b9a444cac0daca4d98e926f",
            "79e74a999e434e2abe3cfaf7d1e36478",
            "afc2f3426ac04238ac3c6394e87dcf10",
            "aa5f6c6831bc41529668dbde897c099c",
            "e9a6eaf7d75b41388871ddc0f952463c",
            "85524d03f2b34daa930d515f2c34f63e",
            "d0a355088d84489ebd65fd9d34bd923a",
            "550d19f6c24e4682806c08251227c847",
            "b2e509c3a28841ea9a8e2806542fb496",
            "6be790bcba09499c8e5a93ea14cd8778"
          ]
        },
        "id": "CTIUQmFmd92z",
        "outputId": "306604d3-6543-4e17-e953-0005dfe9e9a0"
      },
      "outputs": [],
      "source": [
        "# Initialize the pipeline\n",
        "nlp = stanza.Pipeline(lang='en', processors='tokenize,sentiment')\n",
        "\n",
        "# Function to predict sentiment using Stanza\n",
        "def predict_sentiment_stanza(text):\n",
        "    doc = nlp(text)\n",
        "    if len(doc.sentences) > 0:  # Check if at least one sentence was found\n",
        "        return doc.sentences[0].sentiment\n",
        "    else:\n",
        "        return None  # Return None or a default sentiqment if no sentences are detected\n",
        "\n",
        "\n",
        "# Apply the stanza function to the test dataset\n",
        "df_test['stanza_predicted_sentiment'] = df_test.iloc[:, 2].apply(predict_sentiment_stanza)"
      ]
    },
    {
      "cell_type": "code",
      "execution_count": null,
      "metadata": {
        "id": "6vypEIHgd92z",
        "outputId": "ed90d684-16e7-482f-b029-61298d93d2ef"
      },
      "outputs": [],
      "source": [
        "df_test.head()"
      ]
    },
    {
      "cell_type": "code",
      "execution_count": null,
      "metadata": {
        "id": "EQBemIcAd92z"
      },
      "outputs": [],
      "source": [
        "# Convert Stanza sentiment numeric labels to -1, 0, 1\n",
        "def stanza_sentiment_to_valder(stanza_sentiment):\n",
        "    if stanza_sentiment == 2:\n",
        "        return 1    # Positive\n",
        "    elif stanza_sentiment == 0:\n",
        "        return -1   # Negative\n",
        "    else:\n",
        "        return 0    #Neutral\n",
        "\n",
        "# Update stanza predicted sentiment colum with converted values\n",
        "df_test['stanza_predicted_sentiment'] = df_test['stanza_predicted_sentiment'].apply(stanza_sentiment_to_valder)"
      ]
    },
    {
      "cell_type": "code",
      "execution_count": null,
      "metadata": {
        "id": "C-_ik5zTd92z",
        "outputId": "79c1a17c-9908-4edf-98e3-2fa1702169f1"
      },
      "outputs": [],
      "source": [
        "# Evaluate the STANZA model\n",
        "print(classification_report(df_test['sentiment_numeric'], df_test['stanza_predicted_sentiment']))"
      ]
    },
    {
      "cell_type": "markdown",
      "metadata": {
        "id": "HKxIidaKd92z"
      },
      "source": [
        "## Reviews Pre-Processing\n",
        "Functions for pre-processing techniques (by order of appearance):\n",
        "- Lowercasing: lowercase_text()\n",
        "- Named Entity Recognition: ner_text()\n",
        "- Stemming: stem_text()\n",
        "- POS Tagging: pos_tag_text()\n",
        "- Expand Contraction: preprocess_text()\n",
        "- Tokenize: tokenize_exception, tokenize_text()\n",
        "- Stopwords: remove_stopword()\n",
        "- Lemmatization: lemmatize_text()\n",
        "- Negation Handling: handle_negations()"
      ]
    },
    {
      "cell_type": "code",
      "execution_count": null,
      "metadata": {
        "id": "W1eYsP3Fd920"
      },
      "outputs": [],
      "source": [
        "# Download en_core_web_sm\n",
        "#!python -m spacy download en_core_web_sm"
      ]
    },
    {
      "cell_type": "code",
      "execution_count": null,
      "metadata": {
        "colab": {
          "base_uri": "https://localhost:8080/",
          "height": 483,
          "referenced_widgets": [
            "efe321098d7542cabc35e22c4755c166",
            "f884b7cfe5df4520b2b37ffa4dff5e6f",
            "c720562e5c6047d49beb8e619b780816",
            "fa79db531b484438922e27d1355b3a4e",
            "99012e7aaae84e91ae2eaf5c48271786",
            "d1c4517bc7ad4c9d9de7be4cb14444d8",
            "5923d4014f28451ca5021cdc970d4db9",
            "6adb581672794dc6b52f7981ce887a2b",
            "856943146fde46ce85a3640955ff8ed0",
            "cdcf7088f2d24b64bb5f8adb3f586ab5",
            "8eb75e80846e4d0fa168e6ef09da9e0f",
            "c2dd568d11b546c0a53b93bebc40c2d2",
            "28faf9b8149e4ff889942fa78eb4e05a",
            "8a02a36a63ef40c3b7a8c6537bd80895",
            "c0f3d95e2b024056845000c81d94ed0b",
            "765719cb5272435cb4752adbee60a9d2",
            "8ab8525174e24dcc8cc16e70c89cc618",
            "bb0291e8d1534dd4841a4a9ff969c48b",
            "8ec44dcb15634a76a2d414ae7ba97bd6",
            "358cb2f56d6743adbd45738c985cf9dc",
            "32c55f5f18b445eaa57bfe46f4a33721",
            "f2c60b37f6df45778b8308dbc21e5990"
          ]
        },
        "id": "mB5BciAld920",
        "outputId": "4d0a19f2-6004-4741-9c30-1a723e55d34a"
      },
      "outputs": [],
      "source": [
        "# Start Pipeline\n",
        "nlp_spacy = spacy.load('en_core_web_sm')\n",
        "nlp_stanza = stanza.Pipeline(lang='en', processors='tokenize, mwt, pos, lemma, ner')"
      ]
    },
    {
      "cell_type": "code",
      "execution_count": null,
      "metadata": {
        "id": "An4OrUeLd920"
      },
      "outputs": [],
      "source": [
        "# Function for lowercasing\n",
        "def lowercase_text(text):\n",
        "    # Process the text with SpaCy\n",
        "    doc = nlp_spacy(text)\n",
        "    # Lowercase the text except for words that are fully uppercased and longer than 1 character\n",
        "    return ' '.join([token.text.lower() if not token.text.isupper() and len(token.text) > 1 else token.text for token in doc])"
      ]
    },
    {
      "cell_type": "code",
      "execution_count": null,
      "metadata": {
        "id": "zBIWoXrNH_EE"
      },
      "outputs": [],
      "source": [
        "# Function for Named Entity Recognition\n",
        "def ner(text):\n",
        "    # Run the NER pipeline on the text with stanza\n",
        "    doc = nlp_stanza(text)\n",
        "    # Extract entities from the document\n",
        "    entities = [(ent.text, ent.type) for sent in doc.sentences for ent in sent.ents]\n",
        "    return entities"
      ]
    },
    {
      "cell_type": "code",
      "execution_count": null,
      "metadata": {
        "id": "WxWa5EHCd920"
      },
      "outputs": [],
      "source": [
        "# Function that performs stemming on the text\n",
        "def stem_text(text_or_words):\n",
        "    ps = PorterStemmer()\n",
        "    # Check if the input is a string and tokenize, otherwise use directly if it's a list\n",
        "    words = word_tokenize(text_or_words) if isinstance(text_or_words, str) else text_or_words\n",
        "    stemmed_words = [ps.stem(word) for word in words]\n",
        "    return ' '.join(stemmed_words)"
      ]
    },
    {
      "cell_type": "code",
      "execution_count": null,
      "metadata": {
        "id": "OclSeAnVd920"
      },
      "outputs": [],
      "source": [
        "# Function that performs POS tagging using SpaCy, Stanza or NLTK\n",
        "def pos_tag_text(text, library):\n",
        "    assert library in ['spacy', 'stanza', 'nltk'], 'Library should be one of the following: spacy, stanza, or nltk'\n",
        "    if library == 'spacy':\n",
        "        doc = nlp_spacy(text)\n",
        "        pos_tag_list = [(token.text, token.pos_) for token in doc]\n",
        "        return pos_tag_list\n",
        "\n",
        "    elif library == 'stanza':\n",
        "        doc = nlp_stanza(text)\n",
        "        pos_tag_list = [(word.text, word.upos) for sent in doc.sentences for word in sent.words]\n",
        "        return pos_tag_list\n",
        "\n",
        "    elif library == 'nltk':\n",
        "        pos_tag_list = nltk.pos_tag(word_tokenize(text))\n",
        "        return pos_tag_list\n",
        "\n",
        "    else:\n",
        "        return 'no'\n"
      ]
    },
    {
      "cell_type": "code",
      "execution_count": null,
      "metadata": {
        "id": "-St05C-gd920"
      },
      "outputs": [],
      "source": [
        "# Function that adjusts the placement of \"'s\" using regex by removing unnecessary spaces before it.\n",
        "def preprocess_text(text):\n",
        "    # Define contraction patterns with correct groupings\n",
        "    regex_patterns = {\n",
        "        \"possessive\": r\"(\\b\\w+)\\s+('s)\\b\",  # For 's\n",
        "        \"not\": r\"(\\b\\w+)\\s+(n't)\\b\",        # For n't\n",
        "        \"are\": r\"(\\b\\w+)\\s+('re)\\b\",        # For 're\n",
        "        \"have\": r\"(\\b\\w+)\\s+('ve)\\b\",       # For 've\n",
        "        \"will\": r\"(\\b\\w+)\\s+('ll)\\b\",       # For 'll\n",
        "        \"modal\": r\"(\\b\\w+)\\s+('d)\\b\",       # For 'd\n",
        "        \"am\": r\"(\\b\\w+)\\s+('m)\\b\",          # For 'm\n",
        "        \"them\": r\"(\\b\\w+)\\s+('em)\\b\",       # For 'em\n",
        "        \"old\": r\"(\\b\\w+)\\s+('ol)\\b\"         # For 'ol\n",
        "    }\n",
        "\n",
        "    # Apply contraction fixes\n",
        "    for key, pattern in regex_patterns.items():\n",
        "        text = re.sub(pattern, r\"\\1\\2\", text)  # Using \\1\\2 now for correct replacement\n",
        "\n",
        "    return text"
      ]
    },
    {
      "cell_type": "code",
      "execution_count": null,
      "metadata": {
        "id": "_qsiRj9bd920"
      },
      "outputs": [],
      "source": [
        "# Function that expands contractions using regex so the tokenizations doesnt split those words.\n",
        "\n",
        "def tokenize_exception(pos_list, token_list):\n",
        "    # Pre-compile regular expressions\n",
        "    regex_patterns = {\n",
        "        \"possessive\": re.compile(r\"'s$\"),\n",
        "        \"not\": re.compile(r\"n't$\"),\n",
        "        \"are\": re.compile(r\"'re$\"),\n",
        "        \"have\": re.compile(r\"'ve$\"),\n",
        "        \"will\": re.compile(r\"'ll$\"),\n",
        "        \"modal\": re.compile(r\"'d$\"),\n",
        "        \"am\": re.compile(r\"'m$\"),\n",
        "        \"them\": re.compile(r\"'em$\"),\n",
        "        \"old\": re.compile(r\"'ol$\")\n",
        "    }\n",
        "\n",
        "    # Iterate over token_list to find and adjust tokens\n",
        "    for i in range(len(token_list)):\n",
        "        for key, pattern in regex_patterns.items():\n",
        "            if pattern.search(token_list[i]):\n",
        "                if key == \"possessive\":\n",
        "                    if i + 1 < len(pos_list) and pos_list[i + 1][1] in ['JJ', 'IN', 'VBG', 'RB', 'RBR', 'RBS', 'VBN', 'DT', 'PART']:\n",
        "                        token_list[i] = pattern.sub(\"is\", token_list[i])\n",
        "                    else:\n",
        "                        token_list[i] = pattern.sub(\"\", token_list[i])\n",
        "                elif key == \"modal\":\n",
        "                    if i + 1 < len(pos_list):\n",
        "                        if 'VB' in pos_list[i + 1][1]:\n",
        "                            token_list[i] = pattern.sub(\"would\", token_list[i])\n",
        "                        elif 'VBN' in pos_list[i + 1][1]:\n",
        "                            token_list[i] = pattern.sub(\"had\", token_list[i])\n",
        "                else:\n",
        "                    replacement = {\"not\": \"not\", \"are\": \"are\", \"have\": \"have\", \"will\": \"will\", \"am\": \"am\", \"them\": \"them\", \"old\": \"old\"}\n",
        "                    token_list[i] = pattern.sub(replacement[key], token_list[i])\n",
        "    return token_list\n",
        "\n",
        "\n",
        "\n",
        "# Function that performs Tokenization using SpaCy, Stanza or NLTK\n",
        "def tokenize_text(text, library, pos_list):\n",
        "    assert library in ['spacy', 'stanza', 'nltk']\n",
        "    if library == 'spacy':\n",
        "        doc = nlp_spacy(text)\n",
        "        token_list = tokenize_exception(pos_list, [token.text for token in doc])\n",
        "\n",
        "        return token_list\n",
        "\n",
        "    elif library == 'stanza':\n",
        "        doc = nlp_stanza(text)\n",
        "        token_list = tokenize_exception(pos_list, [word.text for sent in doc.sentences for word in sent.words])\n",
        "        return token_list\n",
        "\n",
        "    elif library == 'nltk':\n",
        "        token_list = tokenize_exception(pos_list, word_tokenize(text))\n",
        "        return token_list\n",
        "\n",
        "    else:\n",
        "        return text"
      ]
    },
    {
      "cell_type": "code",
      "execution_count": null,
      "metadata": {
        "id": "B1oQKC2ed921"
      },
      "outputs": [],
      "source": [
        "# Function that removes stopwords using SpaCy, Stanza or NLTK\n",
        "def remove_stopwords(tokens, library):\n",
        "    assert library in ['spacy', 'stanza', 'nltk'], 'Library should be one of the following: spacy, stanza, or nltk'\n",
        "\n",
        "    # Remove stopwords using spaCy\n",
        "    if library == 'spacy':\n",
        "        # Presuming 'nlp_spacy' has been previously initialized with a model and its stopwords loaded\n",
        "        filtered_tokens = [token for token in tokens if token not in nlp_spacy.Defaults.stop_words]\n",
        "        return filtered_tokens\n",
        "\n",
        "    # Remove stopwords using Stanza\n",
        "    elif library == 'stanza':\n",
        "        # Presuming 'nlp_stanza' has been previously initialized and its stopwords are accessible\n",
        "        filtered_tokens = [token for token in tokens if token not in nlp_stanza.Defaults.stop_words]\n",
        "        return filtered_tokens\n",
        "\n",
        "    # Remove stopwords using NLTK\n",
        "    elif library == 'nltk':\n",
        "        stopwords = nltk.corpus.stopwords.words('english')\n",
        "        filtered_tokens = [token for token in tokens if token.lower() not in stopwords]\n",
        "        return filtered_tokens\n",
        "\n",
        "    else:\n",
        "        return tokens"
      ]
    },
    {
      "cell_type": "code",
      "execution_count": null,
      "metadata": {
        "id": "Q2dymK7Ad921"
      },
      "outputs": [],
      "source": [
        "# Function for lemmatization using SpaCy, Stanza or NLTK\n",
        "def lemmatize_text(tokens, library):\n",
        "    assert library in ['spacy', 'stanza', 'nltk'], 'Library should be one of the following: spacy, stanza, or nltk'\n",
        "\n",
        "    # Lemmatization using spaCy\n",
        "    if library == 'spacy':\n",
        "        tokens = nlp_spacy(tokens)\n",
        "        lemmatized_tokens = [token.lemma_ for token in tokens]\n",
        "        return lemmatized_tokens\n",
        "\n",
        "    # Lemmatization using Stanza\n",
        "    elif library == 'stanza':\n",
        "        tokens = nlp_stanza(tokens)\n",
        "        lemmatized_tokens = [word.lemma for sent in tokens.sentences for word in sent.words]\n",
        "        return lemmatized_tokens\n",
        "\n",
        "    # Lemmatization using NLTK\n",
        "    elif library == 'nltk':\n",
        "        tokens = word_tokenize(tokens)\n",
        "        lemmatizer = WordNetLemmatizer()\n",
        "        lemmatized_tokens = [lemmatizer.lemmatize(token) for token in tokens]\n",
        "        return lemmatized_tokens"
      ]
    },
    {
      "cell_type": "code",
      "execution_count": null,
      "metadata": {
        "id": "pC6CgLbId921"
      },
      "outputs": [],
      "source": [
        "# Function that handles negations by adding NOT_ as a prefix to the word that follows a negation word\n",
        "def handle_negations(tokens):\n",
        "    negation_words = [\"not\", \"no\", \"never\", \"none\", \"nothing\", \"neither\", \"nowhere\", \"no one\",\n",
        "                 \"nobody\", \"don’t\", \"doesn’t\", \"isn’t\", \"aren’t\", \"wasn’t\", \"weren’t\",\n",
        "                 \"can’t\", \"couldn’t\", \"shouldn’t\", \"won’t\", \"wouldn’t\", \"hasn't\", \"haven't\",\n",
        "                 \"hadn't\", \"doesn't\", \"don't\", \"did not\", \"cannot\", \"will not\", \"shall not\",\n",
        "                 \"should not\", \"would not\", \"could not\", \"might not\", \"must not\", \"is not\",\n",
        "                 \"are not\", \"was not\", \"were not\", \"have not\", \"has not\", \"had not\", \"fail to\",\n",
        "                 \"not only... but also\", \"neither... nor\", \"never a\", \"none of\"]\n",
        "    processed_tokens = []\n",
        "    punctuation_marks = ['.', '?', '!', ':', ';', ',']\n",
        "    negation = False\n",
        "\n",
        "    for word in tokens:\n",
        "        # If the word is a punctuation, reset the negation flag\n",
        "        if word in punctuation_marks:\n",
        "            negation = False\n",
        "            processed_tokens.append(word)  # Keep punctuation\n",
        "        elif negation:\n",
        "            processed_tokens.append(\"NOT_\" + word)\n",
        "        else:\n",
        "            processed_tokens.append(word)\n",
        "\n",
        "        # Check if the current word is a negation word\n",
        "        if word.lower() in negation_words or any(neg in word.lower() for neg in negation_words):\n",
        "            negation = True\n",
        "\n",
        "    return processed_tokens"
      ]
    },
    {
      "cell_type": "markdown",
      "metadata": {},
      "source": [
        "### Pre-processing application to the dataframes"
      ]
    },
    {
      "cell_type": "code",
      "execution_count": null,
      "metadata": {
        "id": "8GM9MOn7xkJx"
      },
      "outputs": [],
      "source": [
        "# Applying NER to both dataframes\n",
        "df_test['review_entities'] = df_test['review'].apply(lambda x: ner(x))\n",
        "df_train['review_entities'] = df_train['review'].apply(lambda x: ner(x))"
      ]
    },
    {
      "cell_type": "code",
      "execution_count": null,
      "metadata": {
        "colab": {
          "base_uri": "https://localhost:8080/",
          "height": 206
        },
        "id": "ni8KnZlhIknM",
        "outputId": "6d84a758-ce40-4943-eba2-602a4578be77"
      },
      "outputs": [],
      "source": [
        "# Check the changes in test dataframe\n",
        "df_test.head()"
      ]
    },
    {
      "cell_type": "code",
      "execution_count": null,
      "metadata": {
        "colab": {
          "base_uri": "https://localhost:8080/",
          "height": 206
        },
        "id": "xgikd4N7JDYO",
        "outputId": "35c615af-985f-4392-f6be-5df30799ce2f"
      },
      "outputs": [],
      "source": [
        "# Check the changes in train dataframe\n",
        "df_train.head()"
      ]
    },
    {
      "cell_type": "code",
      "execution_count": null,
      "metadata": {
        "id": "ugIru7uXyS5M"
      },
      "outputs": [],
      "source": [
        "# Case Folding the reviews\n",
        "df_test['review_lc'] = df_test['review'].apply(lambda x: lowercase_text(x))\n",
        "df_train['review_lc'] = df_train['review'].apply(lambda x: lowercase_text(x))"
      ]
    },
    {
      "cell_type": "code",
      "execution_count": null,
      "metadata": {
        "colab": {
          "base_uri": "https://localhost:8080/",
          "height": 206
        },
        "id": "G1EOzxNOd923",
        "outputId": "1c8f4ce6-e1ad-4de3-ef63-fc07e3659bb5"
      },
      "outputs": [],
      "source": [
        "# Check the changes in test dataframe\n",
        "df_test.head()"
      ]
    },
    {
      "cell_type": "code",
      "execution_count": null,
      "metadata": {
        "id": "Dm6_ElMId924"
      },
      "outputs": [],
      "source": [
        "# Apply the preprocess of contractions\n",
        "df_test['review_pp'] = df_test['review_lc'].apply(lambda x : preprocess_text(x))\n",
        "\n",
        "df_train['review_pp'] = df_train['review_lc'].apply(lambda x : preprocess_text(x))\n"
      ]
    },
    {
      "cell_type": "code",
      "execution_count": null,
      "metadata": {
        "colab": {
          "base_uri": "https://localhost:8080/",
          "height": 206
        },
        "id": "jg9ZPbctd924",
        "outputId": "3a72ee30-dd5b-4c66-e7c9-268ed9769bcd"
      },
      "outputs": [],
      "source": [
        "# Check the changes in test dataframe\n",
        "df_test.head()"
      ]
    },
    {
      "cell_type": "code",
      "execution_count": null,
      "metadata": {
        "colab": {
          "base_uri": "https://localhost:8080/",
          "height": 206
        },
        "id": "RJcG-URWd924",
        "outputId": "a20c92f9-bb7e-44b5-f913-326c5bda502c"
      },
      "outputs": [],
      "source": [
        "df_train.head()"
      ]
    },
    {
      "cell_type": "code",
      "execution_count": null,
      "metadata": {
        "id": "Gb03YsAmd924"
      },
      "outputs": [],
      "source": [
        "# Applying POS_tagging to the reviews using spacy\n",
        "df_test['tags_spacy'] = df_test['review_pp'].apply(lambda x: pos_tag_text(x, 'spacy'))\n",
        "df_train['tags_spacy'] = df_train['review_pp'].apply(lambda x: pos_tag_text(x, 'spacy'))"
      ]
    },
    {
      "cell_type": "code",
      "execution_count": null,
      "metadata": {
        "colab": {
          "base_uri": "https://localhost:8080/",
          "height": 276
        },
        "id": "KE3yeTRmd924",
        "outputId": "a25c9d84-e7be-475c-d644-9f46071f9c17"
      },
      "outputs": [],
      "source": [
        "# Check the changes in test dataframe\n",
        "df_test.head()"
      ]
    },
    {
      "cell_type": "code",
      "execution_count": null,
      "metadata": {
        "id": "mflBIvTEd924"
      },
      "outputs": [],
      "source": [
        "# Tokenization of the reviews using spacy\n",
        "df_test['review_tokenized'] = df_test.apply(lambda x: tokenize_text(x['review_pp'], 'spacy', x['tags_spacy']), axis=1)\n",
        "df_train['review_tokenized'] = df_train.apply(lambda x: tokenize_text(x['review_pp'], 'spacy', x['tags_spacy']), axis=1)"
      ]
    },
    {
      "cell_type": "code",
      "execution_count": null,
      "metadata": {
        "colab": {
          "base_uri": "https://localhost:8080/",
          "height": 293
        },
        "id": "e-635wSWd924",
        "outputId": "c3bf870e-42fb-40a2-c720-f517dfe2de91"
      },
      "outputs": [],
      "source": [
        "# Check the changes in test dataframe\n",
        "df_test.head()"
      ]
    },
    {
      "cell_type": "code",
      "execution_count": null,
      "metadata": {
        "id": "JJ0Ve49cd924"
      },
      "outputs": [],
      "source": [
        "# Lemmatization of reviews using spacy\n",
        "df_test['review_lemmatized'] = df_test['review_tokenized'].apply(lambda x: lemmatize_text(\" \".join(x), 'spacy'))\n",
        "df_train['review_lemmatized'] = df_train['review_tokenized'].apply(lambda x: lemmatize_text(\" \".join(x), 'spacy'))"
      ]
    },
    {
      "cell_type": "code",
      "execution_count": null,
      "metadata": {
        "colab": {
          "base_uri": "https://localhost:8080/",
          "height": 293
        },
        "id": "XCtDd37jd924",
        "outputId": "f4f4dc59-e82f-4d0f-c4a4-66911913d6ff"
      },
      "outputs": [],
      "source": [
        "# Check the changes in test dataframe\n",
        "df_test.head()"
      ]
    },
    {
      "cell_type": "code",
      "execution_count": null,
      "metadata": {
        "id": "kvQn9UG7d925"
      },
      "outputs": [],
      "source": [
        "# Negation Handling \n",
        "df_test['negations_review'] = df_test['review_lemmatized'].apply(lambda x: handle_negations(x))\n",
        "df_train['negations_review'] = df_train['review_lemmatized'].apply(lambda x: handle_negations(x))\n",
        "\n",
        "#df_test['review_test'] = df_test['review_test'].apply(lambda x: remove_stopwords(x, 'spacy'))"
      ]
    },
    {
      "cell_type": "code",
      "execution_count": null,
      "metadata": {
        "colab": {
          "base_uri": "https://localhost:8080/",
          "height": 754
        },
        "id": "EDQ_cW-Od925",
        "outputId": "3aa69dc3-1b71-4e29-ad37-d765dab86480"
      },
      "outputs": [],
      "source": [
        "# Check the changes in test dataframe\n",
        "df_test"
      ]
    },
    {
      "cell_type": "code",
      "execution_count": null,
      "metadata": {
        "colab": {
          "base_uri": "https://localhost:8080/"
        },
        "id": "PKluiV8gd925",
        "outputId": "1577b3a9-1ca4-4e23-e658-8ea2253e5af5"
      },
      "outputs": [],
      "source": [
        "# Check if negations are correctly applied using row 1724\n",
        "df_test['negations_review'].iloc[1724]"
      ]
    },
    {
      "cell_type": "code",
      "execution_count": null,
      "metadata": {
        "colab": {
          "base_uri": "https://localhost:8080/"
        },
        "id": "Ma14cH7Fd925",
        "outputId": "cae236e5-d528-486a-9c70-ff68b065f314"
      },
      "outputs": [],
      "source": [
        "# Check if tags are correctly identified using row 4\n",
        "df_test[\"tags_spacy\"].iloc[4]"
      ]
    },
    {
      "cell_type": "markdown",
      "metadata": {},
      "source": [
        "#### Given the computational capacity needed it's advised to use google collab to run the pre-processing fase.\n",
        "- The following code extracts the transformed dataframes from google collab into the Drive."
      ]
    },
    {
      "cell_type": "code",
      "execution_count": null,
      "metadata": {},
      "outputs": [],
      "source": [
        "# Import drive\n",
        "from google.colab import drive\n",
        "drive.mount('/content/drive')"
      ]
    },
    {
      "cell_type": "code",
      "execution_count": null,
      "metadata": {
        "id": "1eLzpVmGZwGZ"
      },
      "outputs": [],
      "source": [
        "# Update these paths to match the exact location of your files in Drive\n",
        "test_file_path_download = '/content/drive/My Drive/df_test.csv'\n",
        "train_file_path_donwload = '/content/drive/My Drive/df_train.csv'"
      ]
    },
    {
      "cell_type": "code",
      "execution_count": null,
      "metadata": {
        "id": "syU7TqG_ZX_R"
      },
      "outputs": [],
      "source": [
        "df_test.to_csv(test_file_path_download, index=False)\n",
        "df_train.to_csv(train_file_path_donwload, index=False)"
      ]
    },
    {
      "cell_type": "markdown",
      "metadata": {},
      "source": [
        "#### Loading the transformed data - 2 options\n",
        "- From google collab\n",
        "- From file location"
      ]
    },
    {
      "cell_type": "code",
      "execution_count": null,
      "metadata": {},
      "outputs": [],
      "source": [
        "# Update these paths to match the exact location of your files in Drive\n",
        "dftest_file_path = '/content/drive/My Drive/df_test.csv'\n",
        "dftrain_file_path= '/content/drive/My Drive/df_train.csv'\n",
        "\n",
        "# Load the data\n",
        "df_test = pd.read_csv(dftest_file_path, sep=',', converters={\n",
        "        'review_entities': literal_eval,\n",
        "        'tags_spacy': literal_eval,\n",
        "        'review_tokenized': literal_eval,\n",
        "        'review_lemmatized': literal_eval,\n",
        "        'negations_review': literal_eval\n",
        "    })\n",
        "df_train = pd.read_csv(dftrain_file_path, sep=',',converters={\n",
        "        'review_entities': literal_eval,\n",
        "        'tags_spacy': literal_eval,\n",
        "        'review_tokenized': literal_eval,\n",
        "        'review_lemmatized': literal_eval,\n",
        "        'negations_review': literal_eval\n",
        "    })"
      ]
    },
    {
      "cell_type": "code",
      "execution_count": null,
      "metadata": {},
      "outputs": [],
      "source": [
        "# Load locally\n",
        "df_test = pd.read_csv(\n",
        "    'df_test.csv',\n",
        "    converters={\n",
        "        'review_entities': literal_eval,\n",
        "        'tags_spacy': literal_eval,\n",
        "        'review_tokenized': literal_eval,\n",
        "        'review_lemmatized': literal_eval,\n",
        "        'negations_review': literal_eval\n",
        "    }\n",
        ")\n",
        "\n",
        "df_train = pd.read_csv(\n",
        "    'df_train.csv',\n",
        "    converters={\n",
        "        'review_entities': literal_eval,\n",
        "        'tags_spacy': literal_eval,\n",
        "        'review_tokenized': literal_eval,\n",
        "        'review_lemmatized': literal_eval,\n",
        "        'negations_review': literal_eval\n",
        "    }\n",
        ")"
      ]
    },
    {
      "cell_type": "markdown",
      "metadata": {
        "id": "c5d7IQs3d925"
      },
      "source": [
        "## Application of a Lexicon (EmoLex) for sentiment classification"
      ]
    },
    {
      "cell_type": "code",
      "execution_count": null,
      "metadata": {
        "id": "LwqJ2nEHd925"
      },
      "outputs": [],
      "source": [
        "# Load the lexicon via url\n",
        "lexname=\"https://raw.githubusercontent.com/fmmb/Text-Mining/main/data/NRC-lexicon.csv\"\n",
        "\n",
        "# Load the lexicon via file \n",
        "#lexname = \"NRC-lexicon.csv\"\n",
        "\n",
        "lexicon = pd.read_csv(lexname, encoding=\"utf-8\", index_col=[\"English\"])"
      ]
    },
    {
      "cell_type": "code",
      "execution_count": null,
      "metadata": {
        "colab": {
          "base_uri": "https://localhost:8080/",
          "height": 255
        },
        "id": "hRXwIr55d926",
        "outputId": "d229ba79-f9c5-429a-b6f6-a6688b8c5059"
      },
      "outputs": [],
      "source": [
        "# Check the lexicon\n",
        "print(f\"Lexicon Size: {len(lexicon)} words\")\n",
        "display(lexicon.sample(5))"
      ]
    },
    {
      "cell_type": "code",
      "execution_count": null,
      "metadata": {
        "id": "TakCCfyed926"
      },
      "outputs": [],
      "source": [
        "# Convert to dictionary for eficiency\n",
        "lex = (lexicon['Positive']-lexicon['Negative']).to_dict()"
      ]
    },
    {
      "cell_type": "code",
      "execution_count": null,
      "metadata": {},
      "outputs": [],
      "source": [
        "# Function to classify sentiment based on a given lexicon\n",
        "def lex_sentiment(review, lexicon):\n",
        "    score = 0\n",
        "    words = review.split() if isinstance(review, str) else review\n",
        "    for word in words:\n",
        "        score += lexicon.get(word, 0)\n",
        "        # print(word, lexicon.get(word, 0))\n",
        "    #print(\"Sum:\", score)\n",
        "\n",
        "    # Classify sentiment based on the sentiment score\n",
        "    if score >= 0.5:\n",
        "        return 1   # Positive sentiment\n",
        "    elif score <= -0.5:\n",
        "        return -1   # Negative sentiment\n",
        "    else:\n",
        "        return 0  # Neutral sentiment\n"
      ]
    },
    {
      "cell_type": "markdown",
      "metadata": {
        "id": "sGp-MPIed926"
      },
      "source": [
        "## Experiments with the lexicon\n",
        "1. Without any Pre-Processing\n",
        "2. Lowercasing and handling contractions\n",
        "3. With Tokezination and POS tagging (SpaCy, NLTK, Stanza)\n",
        "4. With Stop word removal (SpaCy, NLTK, Stanza)\n",
        "5. With Lemmatization (SpaCy, NLTK, Stanza)\n",
        "6. With Negation Handling"
      ]
    },
    {
      "cell_type": "markdown",
      "metadata": {
        "id": "35NQc2Ond926"
      },
      "source": [
        "### 1. Without any Pre-Processing"
      ]
    },
    {
      "cell_type": "code",
      "execution_count": null,
      "metadata": {
        "id": "dHOLyJbKd926"
      },
      "outputs": [],
      "source": [
        "# Create dataframe with results from the experiments with the lexicon\n",
        "lex_test = pd.DataFrame()"
      ]
    },
    {
      "cell_type": "code",
      "execution_count": null,
      "metadata": {
        "id": "VLEyWUm2d926"
      },
      "outputs": [],
      "source": [
        "# Apply lexicon to reviews without any preprocessing\n",
        "lex_test['No_Processing'] = df_test['review'].apply(lambda x: lex_sentiment(x, lex))"
      ]
    },
    {
      "cell_type": "code",
      "execution_count": null,
      "metadata": {
        "colab": {
          "base_uri": "https://localhost:8080/"
        },
        "id": "Ldx9BJKmd926",
        "outputId": "b9637e48-b616-4c8a-8c83-5437b8592658"
      },
      "outputs": [],
      "source": [
        "lex_test['No_Processing'].value_counts()"
      ]
    },
    {
      "cell_type": "code",
      "execution_count": null,
      "metadata": {
        "colab": {
          "base_uri": "https://localhost:8080/"
        },
        "id": "AGRuJqpHd926",
        "outputId": "ae111d5b-88ae-4d8b-d044-2ac6c3d81678"
      },
      "outputs": [],
      "source": [
        "# Evaluation of the experiment\n",
        "print(classification_report(df_test['sentiment_numeric'], lex_test['No_Processing']))"
      ]
    },
    {
      "cell_type": "markdown",
      "metadata": {
        "id": "EeNvsZbwd927"
      },
      "source": [
        "### 2. Lowercasing and handling contractions"
      ]
    },
    {
      "cell_type": "code",
      "execution_count": null,
      "metadata": {
        "id": "p7zoocQCd927"
      },
      "outputs": [],
      "source": [
        "# Applying the lexicon to the normalized reviews\n",
        "lex_test['With_Normalization_sentiment'] = df_test[\"review_pp\"].apply(lambda x: lex_sentiment(x, lex))"
      ]
    },
    {
      "cell_type": "code",
      "execution_count": null,
      "metadata": {
        "colab": {
          "base_uri": "https://localhost:8080/"
        },
        "id": "8mNaEWGbd927",
        "outputId": "47d1cd80-2cb2-4990-cadb-8c5530ca5c1a"
      },
      "outputs": [],
      "source": [
        "# Evaluation of the experiment\n",
        "print(classification_report(df_test['sentiment_numeric'], lex_test['With_Normalization_sentiment']))"
      ]
    },
    {
      "cell_type": "markdown",
      "metadata": {
        "id": "Lak_LNFxd927"
      },
      "source": [
        "### 3. With Tokezination and POS tagging (SpaCy, NLTK, Stanza)"
      ]
    },
    {
      "cell_type": "code",
      "execution_count": null,
      "metadata": {
        "id": "YDfvT2qOd928"
      },
      "outputs": [],
      "source": [
        "# Applying the lexicon to the tokenized reviews\n",
        "lex_test['With_Tokenization_sentiment'] = df_test[\"review_tokenized\"].apply(lambda x: lex_sentiment(x, lex))"
      ]
    },
    {
      "cell_type": "code",
      "execution_count": null,
      "metadata": {
        "colab": {
          "base_uri": "https://localhost:8080/"
        },
        "id": "q7XfCaTld928",
        "outputId": "f94aca17-cdaf-4583-8861-4d6c5b2e1e19"
      },
      "outputs": [],
      "source": [
        "# Evaluation of the experiment\n",
        "print(classification_report(df_test['sentiment_numeric'], lex_test['With_Tokenization_sentiment']))"
      ]
    },
    {
      "cell_type": "markdown",
      "metadata": {
        "id": "0T59u9lZd928"
      },
      "source": [
        "### 4. With Stop word removal (SpaCy, NLTK, Stanza)"
      ]
    },
    {
      "cell_type": "code",
      "execution_count": null,
      "metadata": {
        "colab": {
          "base_uri": "https://localhost:8080/"
        },
        "id": "r4FiKoggd928",
        "outputId": "6184fdf0-4903-46b1-c710-9dec3c9dfe7d"
      },
      "outputs": [],
      "source": [
        "# Removing stop words \n",
        "df_test['review_tokenized_no_stopwords'] = df_test['review_tokenized'].apply(lambda x: remove_stopwords(x, 'nltk'))"
      ]
    },
    {
      "cell_type": "code",
      "execution_count": null,
      "metadata": {
        "id": "kL-uEd8qd929"
      },
      "outputs": [],
      "source": [
        "# Applying the lexicon to the tokenized reviews without stop words\n",
        "lex_test['Without_stopwords_sentiment'] = df_test['review_tokenized_no_stopwords'].apply(lambda x: lex_sentiment(x, lex))"
      ]
    },
    {
      "cell_type": "code",
      "execution_count": null,
      "metadata": {
        "colab": {
          "base_uri": "https://localhost:8080/"
        },
        "id": "BncIFo_Gd929",
        "outputId": "d77006b4-173f-4173-a7fc-ed861be6ede8"
      },
      "outputs": [],
      "source": [
        "print(classification_report(df_test['sentiment_numeric'], lex_test['Without_stopwords_sentiment']))"
      ]
    },
    {
      "cell_type": "markdown",
      "metadata": {
        "id": "GsX6E02td929"
      },
      "source": [
        "### 5. With Lemmatization (SpaCy, NLTK, Stanza)"
      ]
    },
    {
      "cell_type": "code",
      "execution_count": null,
      "metadata": {
        "id": "Nl_7uf9Od92_"
      },
      "outputs": [],
      "source": [
        "# Applying the lexicon to the lematized reviews\n",
        "lex_test['With_Lemma_sentiment'] = df_test['review_lemmatized'].apply(lambda x: lex_sentiment(x, lex))"
      ]
    },
    {
      "cell_type": "code",
      "execution_count": null,
      "metadata": {
        "colab": {
          "base_uri": "https://localhost:8080/"
        },
        "id": "gR9DV2ffd92_",
        "outputId": "6441171f-8dce-4f1f-fa71-c9c40c1c3825"
      },
      "outputs": [],
      "source": [
        "# Evaluation of the experiment\n",
        "print(classification_report(df_test['sentiment_numeric'], lex_test['With_Lemma_sentiment']))"
      ]
    },
    {
      "cell_type": "markdown",
      "metadata": {
        "id": "G9w7dNqXd92_"
      },
      "source": [
        "### 6. With Negation Handling"
      ]
    },
    {
      "cell_type": "code",
      "execution_count": null,
      "metadata": {
        "id": "fG8wsOOmd92_"
      },
      "outputs": [],
      "source": [
        "# Define the classify_sentiment function to handle negations alterations\n",
        "def classify_sentiment_withneg(words):\n",
        "    score = 0\n",
        "    for w in words:\n",
        "        score += lex.get(w, 0) * (1.5 if w.startswith(\"NOT_\") else 1)\n",
        "    if score >= 1:\n",
        "        return 1\n",
        "    elif -1 < score < 1:\n",
        "        return 0\n",
        "    elif score <= -1:\n",
        "        return -1"
      ]
    },
    {
      "cell_type": "code",
      "execution_count": null,
      "metadata": {
        "id": "ApBmocuQd92_"
      },
      "outputs": [],
      "source": [
        "# Applying the lexicon negation adapted to the negation handled reviews\n",
        "lex_test['With_Negation_sentiment'] = df_test['negations_review'].apply(lambda x: classify_sentiment_withneg(x))"
      ]
    },
    {
      "cell_type": "code",
      "execution_count": null,
      "metadata": {
        "colab": {
          "base_uri": "https://localhost:8080/"
        },
        "id": "jV3dxDdsd92_",
        "outputId": "bfdf2f76-f982-431f-b732-680e58ff4255"
      },
      "outputs": [],
      "source": [
        "# Evaluation of experiement\n",
        "print(classification_report(df_test['sentiment_numeric'], lex_test['With_Negation_sentiment']))"
      ]
    },
    {
      "cell_type": "code",
      "execution_count": null,
      "metadata": {
        "colab": {
          "base_uri": "https://localhost:8080/",
          "height": 424
        },
        "id": "1Y_0sTRKgOc0",
        "outputId": "cdb64ed8-873f-43ec-9036-76eed30a5ba7"
      },
      "outputs": [],
      "source": [
        "lex_test"
      ]
    },
    {
      "cell_type": "markdown",
      "metadata": {
        "id": "qjPkCwGdd93A"
      },
      "source": [
        "## Machine Learning"
      ]
    },
    {
      "cell_type": "markdown",
      "metadata": {
        "id": "gScJgfcud93A"
      },
      "source": [
        "### Feature Extraction - Bag of words"
      ]
    },
    {
      "cell_type": "code",
      "execution_count": null,
      "metadata": {},
      "outputs": [],
      "source": [
        "train_features = pd.DataFrame()\n",
        "test_features = pd.DataFrame()"
      ]
    },
    {
      "cell_type": "code",
      "execution_count": null,
      "metadata": {
        "id": "4jLttDezd93A"
      },
      "outputs": [],
      "source": [
        "# Function to create the bag of words using Counter()\n",
        "def bag_of_words(text):\n",
        "    return Counter(text)"
      ]
    },
    {
      "cell_type": "code",
      "execution_count": null,
      "metadata": {},
      "outputs": [],
      "source": [
        "df_train['review_lemmatized'].iloc[0]"
      ]
    },
    {
      "cell_type": "code",
      "execution_count": null,
      "metadata": {
        "id": "PcZaipd-d93A"
      },
      "outputs": [],
      "source": [
        "# Application of bag of words function do the reviews\n",
        "df_test['bag_ow'] = df_test['review_lemmatized'].apply(lambda x: bag_of_words(x))\n",
        "df_train['bag_ow'] = df_train['review_lemmatized'].apply(lambda x: bag_of_words(x))"
      ]
    },
    {
      "cell_type": "code",
      "execution_count": null,
      "metadata": {},
      "outputs": [],
      "source": [
        "df_train.head()"
      ]
    },
    {
      "cell_type": "code",
      "execution_count": null,
      "metadata": {},
      "outputs": [],
      "source": [
        "X_train = df_train['review_lemmatized'].apply(lambda x: ' '.join(x))\n",
        "X_test = df_test['review_lemmatized'].apply(lambda x: ' '.join(x))\n",
        "y_train = df_train['sentiment_numeric']\n",
        "y_test = df_test['sentiment_numeric']\n",
        "\n",
        "# Append the features (X_train, y_train) to the features df\n",
        "train_features['bow'] = X_train\n",
        "test_features['bow'] = X_test\n"
      ]
    },
    {
      "cell_type": "markdown",
      "metadata": {},
      "source": [
        "#### Logistic Regression with Bag oF words"
      ]
    },
    {
      "cell_type": "code",
      "execution_count": null,
      "metadata": {
        "colab": {
          "base_uri": "https://localhost:8080/"
        },
        "id": "bFPk62UHd93A",
        "outputId": "fedffef7-0f92-4fe2-e99d-ffb27cde23eb"
      },
      "outputs": [],
      "source": [
        "# Create a pipeline with CountVectorizer and LogisticRegression\n",
        "pipeline = Pipeline([\n",
        "    ('vectorizer', CountVectorizer()),\n",
        "    ('classifier', LogisticRegression())\n",
        "])\n",
        "\n",
        "# Fit the pipeline on training data\n",
        "pipeline.fit(X_train, y_train)\n",
        "\n",
        "# Predict on the test data\n",
        "y_pred = pipeline.predict(X_test)\n",
        "\n",
        "# Print the classification report\n",
        "print(classification_report(y_test, y_pred))"
      ]
    },
    {
      "cell_type": "markdown",
      "metadata": {},
      "source": [
        "#### Naive Bayes with bag of words"
      ]
    },
    {
      "cell_type": "code",
      "execution_count": null,
      "metadata": {},
      "outputs": [],
      "source": [
        "# Pipeline to perform Multinomial Naive Bayes\n",
        "pipeline_nb = Pipeline([\n",
        "    ('vectorizer', CountVectorizer()),\n",
        "    ('classifier', MultinomialNB())\n",
        "])\n",
        "\n",
        "# Fit the pipeline on training data\n",
        "pipeline_nb.fit(X_train, y_train)\n",
        "\n",
        "# Predict on the test data\n",
        "y_pred_nb = pipeline_nb.predict(X_test)\n",
        "\n",
        "# Print the classification report\n",
        "print(classification_report(y_test, y_pred_nb))"
      ]
    },
    {
      "cell_type": "markdown",
      "metadata": {},
      "source": [
        "#### SVM with bag of words"
      ]
    },
    {
      "cell_type": "code",
      "execution_count": null,
      "metadata": {},
      "outputs": [],
      "source": [
        "# Pipeline to perform SVM\n",
        "pipeline_svm = Pipeline([\n",
        "    ('vectorizer', CountVectorizer()),\n",
        "    ('classifier', SVC())\n",
        "])\n",
        "\n",
        "# Fit the pipeline on your training data\n",
        "pipeline_svm.fit(X_train, y_train)\n",
        "\n",
        "# Predict on the test data\n",
        "y_pred_svm = pipeline_svm.predict(X_test)\n",
        "\n",
        "# Print the classification report\n",
        "print(classification_report(y_test, y_pred_svm))"
      ]
    },
    {
      "cell_type": "markdown",
      "metadata": {
        "id": "QlSyNGzDd93A"
      },
      "source": [
        "### Feature Extraction - Term Frequency-Inverse Document Frequency (TF-IDF)"
      ]
    },
    {
      "cell_type": "code",
      "execution_count": null,
      "metadata": {
        "id": "VcGwSyFQd93A"
      },
      "outputs": [],
      "source": [
        "# Remove stopwords\n",
        "df_test['review_lemmatized_no_sw'] = df_test['review_lemmatized'].apply(lambda x: remove_stopwords(x, 'nltk'))\n",
        "df_train['review_lemmatized_no_sw'] = df_train['review_lemmatized'].apply(lambda x: remove_stopwords(x, 'nltk'))"
      ]
    },
    {
      "cell_type": "code",
      "execution_count": null,
      "metadata": {},
      "outputs": [],
      "source": [
        "# Convert each entry to a string if they are not already\n",
        "df_train['review_lemmatized_no_sw'] = df_train['review_lemmatized_no_sw'].apply(lambda x: ' '.join(x) if isinstance(x, list) else x)\n",
        "df_test['review_lemmatized_no_sw'] = df_test['review_lemmatized_no_sw'].apply(lambda x: ' '.join(x) if isinstance(x, list) else x)"
      ]
    },
    {
      "cell_type": "code",
      "execution_count": null,
      "metadata": {},
      "outputs": [],
      "source": [
        "df_test['review_lemmatized_no_sw']"
      ]
    },
    {
      "cell_type": "code",
      "execution_count": null,
      "metadata": {},
      "outputs": [],
      "source": [
        "X_train = df_train['review_lemmatized_no_sw']\n",
        "y_train = df_train['sentiment_numeric']\n",
        "X_test = df_test['review_lemmatized_no_sw']\n",
        "y_test = df_test['sentiment_numeric']\n",
        "\n",
        "# Append the features (X_train, y_train) to the features df\n",
        "train_features['tf_idf'] = X_train\n",
        "test_features['tf_idf'] = X_test"
      ]
    },
    {
      "cell_type": "markdown",
      "metadata": {},
      "source": [
        "#### Logistic Regression with TF-IDF"
      ]
    },
    {
      "cell_type": "code",
      "execution_count": null,
      "metadata": {},
      "outputs": [],
      "source": [
        "# Pipeline to perform Logistic Regression\n",
        "pipeline = Pipeline([\n",
        "    ('vectorizer', TfidfVectorizer()),\n",
        "    ('classifier', LogisticRegression())\n",
        "])\n",
        "\n",
        "# Fit the pipeline on the training data\n",
        "pipeline.fit(X_train, y_train)\n",
        "\n",
        "# Predict on the test data\n",
        "y_pred = pipeline.predict(X_test)\n",
        "\n",
        "# Evaluate the model\n",
        "print(classification_report(y_test, y_pred))"
      ]
    },
    {
      "cell_type": "markdown",
      "metadata": {},
      "source": [
        "#### Naive Bayes with TF-IDF"
      ]
    },
    {
      "cell_type": "code",
      "execution_count": null,
      "metadata": {},
      "outputs": [],
      "source": [
        "# Pipeline to perform Multinomial Naive Bayes\n",
        "pipeline = Pipeline([\n",
        "    ('vectorizer', TfidfVectorizer()),\n",
        "    ('classifier', MultinomialNB())\n",
        "])\n",
        "\n",
        "# Fit the pipeline on the training data\n",
        "pipeline.fit(X_train, y_train)\n",
        "\n",
        "# Predict on the test data\n",
        "y_pred = pipeline.predict(X_test)\n",
        "\n",
        "# Evaluate the model\n",
        "print(classification_report(y_test, y_pred))"
      ]
    },
    {
      "cell_type": "markdown",
      "metadata": {},
      "source": [
        "#### SVM with TF-IDF"
      ]
    },
    {
      "cell_type": "code",
      "execution_count": null,
      "metadata": {},
      "outputs": [],
      "source": [
        "# Pipeline to perform SVM\n",
        "pipeline = Pipeline([\n",
        "    ('vectorizer', TfidfVectorizer()),\n",
        "    ('classifier', SVC())\n",
        "])\n",
        "\n",
        "# Fit the pipeline on the training data\n",
        "pipeline.fit(X_train, y_train)\n",
        "\n",
        "# Predict on the test data\n",
        "y_pred = pipeline.predict(X_test)\n",
        "\n",
        "# Evaluate the model\n",
        "print(classification_report(y_test, y_pred))"
      ]
    },
    {
      "cell_type": "markdown",
      "metadata": {},
      "source": [
        "### Feature Extraction - Word Embeddings"
      ]
    },
    {
      "cell_type": "code",
      "execution_count": null,
      "metadata": {},
      "outputs": [],
      "source": [
        "# Function that loads glove embeddings\n",
        "def load_glove_embeddings(path):\n",
        "    embeddings_index = {}\n",
        "    with open(path, encoding='utf-8') as f:\n",
        "        for line in f:\n",
        "            values = line.split()\n",
        "            word = values[0]\n",
        "            coefs = np.asarray(values[1:], dtype='float32')\n",
        "            embeddings_index[word] = coefs\n",
        "    return embeddings_index"
      ]
    },
    {
      "cell_type": "code",
      "execution_count": null,
      "metadata": {},
      "outputs": [],
      "source": [
        "# Load glove for word embeddings\n",
        "glove_path = 'glove.6B.100d.txt'\n",
        "embeddings_index = load_glove_embeddings(glove_path)"
      ]
    },
    {
      "cell_type": "code",
      "execution_count": null,
      "metadata": {},
      "outputs": [],
      "source": [
        "def tokens_to_avg_vectors(word_list, embeddings_index, embedding_dim=100):\n",
        "    embeddings = [embeddings_index.get(word) for word in word_list if word in embeddings_index]\n",
        "    \n",
        "    if not embeddings:\n",
        "        # If no words in the list have embeddings, return a zero vector\n",
        "        return np.zeros(embedding_dim)\n",
        "    \n",
        "    embeddings = np.array(embeddings)\n",
        "    # Calculate the mean vector for the document and return it\n",
        "    return np.mean(embeddings, axis=0)\n"
      ]
    },
    {
      "cell_type": "code",
      "execution_count": null,
      "metadata": {},
      "outputs": [],
      "source": [
        "# Convert the Series of lists into a 2D NumPy array\n",
        "X_train = np.vstack(df_train['review_lemmatized'].apply(lambda x: tokens_to_avg_vectors(x, embeddings_index)))\n",
        "X_test = np.vstack(df_test['review_lemmatized'].apply(lambda x: tokens_to_avg_vectors(x, embeddings_index)))"
      ]
    },
    {
      "cell_type": "code",
      "execution_count": null,
      "metadata": {},
      "outputs": [],
      "source": [
        "X_train"
      ]
    },
    {
      "cell_type": "markdown",
      "metadata": {},
      "source": [
        "#### Logistic Regression with Word Embeddings"
      ]
    },
    {
      "cell_type": "code",
      "execution_count": null,
      "metadata": {},
      "outputs": [],
      "source": [
        "# Pipeline to perform Logistic Regression with Word Embeddings\n",
        "pipeline = Pipeline([\n",
        "    ('classifier', LogisticRegression())\n",
        "])\n",
        "\n",
        "# Fit the pipeline on the training data\n",
        "pipeline.fit(X_train, y_train)\n",
        "\n",
        "# Predict on the test data\n",
        "y_pred = pipeline.predict(X_test)\n",
        "\n",
        "# Evaluate the model\n",
        "print(classification_report(y_test, y_pred))"
      ]
    },
    {
      "cell_type": "markdown",
      "metadata": {},
      "source": [
        "Note: Word Embeddings with Multinomial NB is not possible since this classifier doesn't accept negative values."
      ]
    },
    {
      "cell_type": "markdown",
      "metadata": {},
      "source": [
        "#### SVM with Word Embeddings"
      ]
    },
    {
      "cell_type": "code",
      "execution_count": null,
      "metadata": {},
      "outputs": [],
      "source": [
        "# Pipeline to perform SVM with Word Embeddings\n",
        "pipeline = Pipeline([\n",
        "    ('classifier', SVC())\n",
        "])\n",
        "\n",
        "# Fit the pipeline on the training data\n",
        "pipeline.fit(X_train, y_train)\n",
        "\n",
        "# Predict on the test data\n",
        "y_pred = pipeline.predict(X_test)\n",
        "\n",
        "# Evaluate the model\n",
        "print(classification_report(y_test, y_pred))"
      ]
    },
    {
      "cell_type": "markdown",
      "metadata": {},
      "source": [
        "### Feature Extraction - POS Tagging"
      ]
    },
    {
      "cell_type": "code",
      "execution_count": null,
      "metadata": {},
      "outputs": [],
      "source": [
        "df_test.head()"
      ]
    },
    {
      "cell_type": "code",
      "execution_count": null,
      "metadata": {},
      "outputs": [],
      "source": [
        "# Convert list of tuples to a flat list where each word is combined with its POS tag\n",
        "def flatten_pos_tags(pos_list):\n",
        "    return ' '.join([f'{word}_{pos}' for word, pos in pos_list])\n",
        "\n",
        "# Apply the conversion on your DataFrame\n",
        "X_train = df_train['tags_spacy'].apply(flatten_pos_tags)\n",
        "X_test = df_test['tags_spacy'].apply(flatten_pos_tags)\n",
        "y_train = df_train['sentiment_numeric']\n",
        "y_test = df_test['sentiment_numeric']\n",
        "\n",
        "# Append the features (X_train, y_train) to the features df\n",
        "train_features['pos_tags'] = X_train\n",
        "test_features['pos_tags'] = X_test\n"
      ]
    },
    {
      "cell_type": "markdown",
      "metadata": {},
      "source": [
        "#### Logistic Regression with POS tagging"
      ]
    },
    {
      "cell_type": "code",
      "execution_count": null,
      "metadata": {},
      "outputs": [],
      "source": [
        "# Pipeline to perform Logistic Regression with POS-Tagging as feature\n",
        "pipeline = Pipeline([\n",
        "    ('vectorizer', CountVectorizer()),\n",
        "    ('classifier', LogisticRegression())\n",
        "])\n",
        "\n",
        "# Fit the pipeline on the training data\n",
        "pipeline.fit(X_train, y_train)\n",
        "\n",
        "# Predict on the test data\n",
        "y_pred = pipeline.predict(X_test)\n",
        "\n",
        "# Evaluate the model\n",
        "print(classification_report(y_test, y_pred))"
      ]
    },
    {
      "cell_type": "markdown",
      "metadata": {},
      "source": [
        "#### Naive Bayes with POS Tagging"
      ]
    },
    {
      "cell_type": "code",
      "execution_count": null,
      "metadata": {},
      "outputs": [],
      "source": [
        "# Pipeline to perform Multinomial Naive Bayes with Pos tagging as feature\n",
        "pipeline = Pipeline([\n",
        "    ('vectorizer', CountVectorizer()),\n",
        "    ('classifier', MultinomialNB())\n",
        "])\n",
        "\n",
        "# Fit the pipeline on the training data\n",
        "pipeline.fit(X_train, y_train)\n",
        "\n",
        "# Predict on the test data\n",
        "y_pred = pipeline.predict(X_test)\n",
        "\n",
        "# Evaluate the model\n",
        "print(classification_report(y_test, y_pred))"
      ]
    },
    {
      "cell_type": "markdown",
      "metadata": {},
      "source": [
        "#### SVM with POS Tagging"
      ]
    },
    {
      "cell_type": "code",
      "execution_count": null,
      "metadata": {},
      "outputs": [],
      "source": [
        "# Pipeline to perform SVM with POS-Tagging as feature\n",
        "pipeline = Pipeline([\n",
        "    ('vectorizer', CountVectorizer()),\n",
        "    ('classifier', SVC())\n",
        "])\n",
        "\n",
        "# Fit the pipeline on the training data\n",
        "pipeline.fit(X_train, y_train)\n",
        "\n",
        "# Predict on the test data\n",
        "y_pred = pipeline.predict(X_test)\n",
        "\n",
        "# Evaluate the model\n",
        "print(classification_report(y_test, y_pred))"
      ]
    },
    {
      "cell_type": "markdown",
      "metadata": {},
      "source": [
        "#### Tests With Multiple Features"
      ]
    },
    {
      "cell_type": "code",
      "execution_count": null,
      "metadata": {},
      "outputs": [],
      "source": [
        "train_features.head()"
      ]
    },
    {
      "cell_type": "code",
      "execution_count": null,
      "metadata": {},
      "outputs": [],
      "source": [
        "test_features.head()"
      ]
    },
    {
      "cell_type": "code",
      "execution_count": null,
      "metadata": {},
      "outputs": [],
      "source": [
        "# Define the transformations\n",
        "transformations = ColumnTransformer([\n",
        "    ('bow_vectorizer', CountVectorizer(), 'bow'),         # Apply CountVectorizer to the 'bow' column\n",
        "    ('tfidf_vectorizer', TfidfVectorizer(), 'tf_idf'),    # Apply TfidfVectorizer to the 'tf_idf' column\n",
        "    ('pos_vectorizer', CountVectorizer(), 'pos_tags')     # Apply CountVectorizer to the 'pos_tags' column\n",
        "])"
      ]
    },
    {
      "cell_type": "code",
      "execution_count": null,
      "metadata": {},
      "outputs": [],
      "source": [
        "# Define the transformations\n",
        "transformations2 = ColumnTransformer([\n",
        "    ('bow_vectorizer', CountVectorizer(), 'bow'),        \n",
        "    ('tfidf_vectorizer', TfidfVectorizer(), 'tf_idf')\n",
        "])"
      ]
    },
    {
      "cell_type": "markdown",
      "metadata": {},
      "source": [
        "##### SVM with POS tagging, Bag of words and TF-IDF"
      ]
    },
    {
      "cell_type": "code",
      "execution_count": null,
      "metadata": {},
      "outputs": [],
      "source": [
        "# Create the pipeline\n",
        "pipeline_multi = Pipeline([\n",
        "    ('transformations', transformations),\n",
        "    ('classifier', SVC())\n",
        "])\n",
        "\n",
        "# Fit the pipeline on the training data\n",
        "pipeline_multi.fit(train_features[['bow', 'tf_idf', 'pos_tags']], df_train['sentiment_numeric'])\n",
        "\n",
        "# Predict on the test data\n",
        "y_pred = pipeline_multi.predict(test_features[['bow', 'tf_idf', 'pos_tags']])\n",
        "\n",
        "# Evaluate the model using the true labels from the test set\n",
        "print(classification_report(df_test['sentiment_numeric'], y_pred))"
      ]
    },
    {
      "cell_type": "markdown",
      "metadata": {},
      "source": [
        "##### Naive Bayes with POS tagging, Bag of words and TF-IDF"
      ]
    },
    {
      "cell_type": "code",
      "execution_count": null,
      "metadata": {},
      "outputs": [],
      "source": [
        "# Create the pipeline\n",
        "pipeline_multi = Pipeline([\n",
        "    ('transformations', transformations),\n",
        "    ('classifier', MultinomialNB())\n",
        "])\n",
        "# Fit the pipeline on the training data\n",
        "pipeline_multi.fit(train_features[['bow', 'tf_idf', 'pos_tags']], df_train['sentiment_numeric'])\n",
        "\n",
        "# Predict on the test data\n",
        "y_pred = pipeline_multi.predict(test_features[['bow', 'tf_idf', 'pos_tags']])\n",
        "\n",
        "# Evaluate the model\n",
        "print(classification_report(df_test['sentiment_numeric'], y_pred))"
      ]
    },
    {
      "cell_type": "markdown",
      "metadata": {},
      "source": [
        "##### Logistic Regression with POS tagging, Bag of words and TF-IDF"
      ]
    },
    {
      "cell_type": "code",
      "execution_count": null,
      "metadata": {},
      "outputs": [],
      "source": [
        "# Create the pipeline\n",
        "pipeline_multi = Pipeline([\n",
        "    ('transformations', transformations),\n",
        "    ('classifier', LogisticRegression())\n",
        "])\n",
        "# Fit the pipeline on the training data\n",
        "pipeline_multi.fit(train_features[['bow', 'tf_idf', 'pos_tags']], df_train['sentiment_numeric'])\n",
        "\n",
        "# Predict on the test data\n",
        "y_pred = pipeline_multi.predict(test_features[['bow', 'tf_idf', 'pos_tags']])\n",
        "\n",
        "# Evaluate the model using the labels from the test set\n",
        "print(classification_report(df_test['sentiment_numeric'], y_pred))"
      ]
    },
    {
      "cell_type": "markdown",
      "metadata": {},
      "source": [
        "### Machine Learning with Negation"
      ]
    },
    {
      "cell_type": "code",
      "execution_count": null,
      "metadata": {},
      "outputs": [],
      "source": [
        "df_train['negations_review'].iloc[0]"
      ]
    },
    {
      "cell_type": "code",
      "execution_count": null,
      "metadata": {},
      "outputs": [],
      "source": [
        "# Application of bag of words function do the reviews\n",
        "df_test['bag_ow_not'] = df_test['negations_review'].apply(lambda x: bag_of_words(x))\n",
        "df_train['bag_ow_not'] = df_train['negations_review'].apply(lambda x: bag_of_words(x))"
      ]
    },
    {
      "cell_type": "code",
      "execution_count": null,
      "metadata": {},
      "outputs": [],
      "source": [
        "df_train.head()"
      ]
    },
    {
      "cell_type": "code",
      "execution_count": null,
      "metadata": {},
      "outputs": [],
      "source": [
        "X_train = df_train['negations_review'].apply(lambda x: ' '.join(x))\n",
        "X_test = df_test['negations_review'].apply(lambda x: ' '.join(x))\n",
        "y_train = df_train['sentiment_numeric']\n",
        "y_test = df_test['sentiment_numeric']\n",
        "\n",
        "# Append the features (X_train, y_train) to the features df\n",
        "train_features['bow_neg'] = X_train\n",
        "test_features['bow_neg'] = X_test\n"
      ]
    },
    {
      "cell_type": "markdown",
      "metadata": {},
      "source": [
        "#### Logistic Regression with Bag of words and negations"
      ]
    },
    {
      "cell_type": "code",
      "execution_count": null,
      "metadata": {},
      "outputs": [],
      "source": [
        "# Create a pipeline with CountVectorizer and LogisticRegression\n",
        "pipeline = Pipeline([\n",
        "    ('vectorizer', CountVectorizer()),\n",
        "    ('classifier', LogisticRegression())\n",
        "])\n",
        "\n",
        "# Fit the pipeline on training data\n",
        "pipeline.fit(X_train, y_train)\n",
        "\n",
        "# Predict on the test data\n",
        "y_pred = pipeline.predict(X_test)\n",
        "\n",
        "# Print the classification report\n",
        "print(classification_report(y_test, y_pred))"
      ]
    },
    {
      "cell_type": "markdown",
      "metadata": {},
      "source": [
        "#### Naive Bayes with bag of words and negation"
      ]
    },
    {
      "cell_type": "code",
      "execution_count": null,
      "metadata": {},
      "outputs": [],
      "source": [
        "# Pipeline to perform Multinomial Naive Bayes\n",
        "pipeline_nb = Pipeline([\n",
        "    ('vectorizer', CountVectorizer()),\n",
        "    ('classifier', MultinomialNB())\n",
        "])\n",
        "\n",
        "# Fit the pipeline on training data\n",
        "pipeline_nb.fit(X_train, y_train)\n",
        "\n",
        "# Predict on the test data\n",
        "y_pred_nb = pipeline_nb.predict(X_test)\n",
        "\n",
        "# Print the classification report\n",
        "print(classification_report(y_test, y_pred_nb))"
      ]
    },
    {
      "cell_type": "markdown",
      "metadata": {},
      "source": [
        "#### SVM with bag of words and negation"
      ]
    },
    {
      "cell_type": "code",
      "execution_count": null,
      "metadata": {},
      "outputs": [],
      "source": [
        "# Pipeline to perform SVM\n",
        "pipeline_svm = Pipeline([\n",
        "    ('vectorizer', CountVectorizer()),\n",
        "    ('classifier', SVC())\n",
        "])\n",
        "\n",
        "# Fit the pipeline on your training data\n",
        "pipeline_svm.fit(X_train, y_train)\n",
        "\n",
        "# Predict on the test data\n",
        "y_pred_svm = pipeline_svm.predict(X_test)\n",
        "\n",
        "# Print the classification report\n",
        "print(classification_report(y_test, y_pred_svm))"
      ]
    },
    {
      "cell_type": "markdown",
      "metadata": {},
      "source": [
        "### Feature Extraction - Term Frequency-Inverse Document Frequency (TF-IDF) with negation"
      ]
    },
    {
      "cell_type": "code",
      "execution_count": null,
      "metadata": {},
      "outputs": [],
      "source": [
        "# Remove stopwords\n",
        "df_test['review_lemmatized_no_sw_neg'] = df_test['negations_review'].apply(lambda x: remove_stopwords(x, 'nltk'))\n",
        "df_train['review_lemmatized_no_sw_neg'] = df_train['negations_review'].apply(lambda x: remove_stopwords(x, 'nltk'))"
      ]
    },
    {
      "cell_type": "code",
      "execution_count": null,
      "metadata": {},
      "outputs": [],
      "source": [
        "# Convert each entry to a string if they are not already\n",
        "df_train['review_lemmatized_no_sw_neg'] = df_train['negations_review'].apply(lambda x: ' '.join(x) if isinstance(x, list) else x)\n",
        "df_test['review_lemmatized_no_sw_neg'] = df_test['negations_review'].apply(lambda x: ' '.join(x) if isinstance(x, list) else x)"
      ]
    },
    {
      "cell_type": "code",
      "execution_count": null,
      "metadata": {},
      "outputs": [],
      "source": [
        "df_test['review_lemmatized_no_sw_neg']"
      ]
    },
    {
      "cell_type": "code",
      "execution_count": null,
      "metadata": {},
      "outputs": [],
      "source": [
        "X_train = df_train['review_lemmatized_no_sw_neg']\n",
        "y_train = df_train['sentiment_numeric']\n",
        "X_test = df_test['review_lemmatized_no_sw_neg']\n",
        "y_test = df_test['sentiment_numeric']\n",
        "\n",
        "# Append the features (X_train, y_train) to the features df\n",
        "train_features['tf_idf_neg'] = X_train\n",
        "test_features['tf_idf_neg'] = X_test"
      ]
    },
    {
      "cell_type": "markdown",
      "metadata": {},
      "source": [
        "#### Logistic Regression with TF-IDF with negation"
      ]
    },
    {
      "cell_type": "code",
      "execution_count": null,
      "metadata": {},
      "outputs": [],
      "source": [
        "# Pipeline to perform Logistic Regression\n",
        "pipeline = Pipeline([\n",
        "    ('vectorizer', TfidfVectorizer()),\n",
        "    ('classifier', LogisticRegression())\n",
        "])\n",
        "\n",
        "# Fit the pipeline on the training data\n",
        "pipeline.fit(X_train, y_train)\n",
        "\n",
        "# Predict on the test data\n",
        "y_pred = pipeline.predict(X_test)\n",
        "\n",
        "# Evaluate the model\n",
        "print(classification_report(y_test, y_pred))"
      ]
    },
    {
      "cell_type": "markdown",
      "metadata": {},
      "source": [
        "#### Naive Bayes with TF-IDF with negation"
      ]
    },
    {
      "cell_type": "code",
      "execution_count": null,
      "metadata": {},
      "outputs": [],
      "source": [
        "# Pipeline to perform Multinomial Naive Bayes\n",
        "pipeline = Pipeline([\n",
        "    ('vectorizer', TfidfVectorizer()),\n",
        "    ('classifier', MultinomialNB())\n",
        "])\n",
        "\n",
        "# Fit the pipeline on the training data\n",
        "pipeline.fit(X_train, y_train)\n",
        "\n",
        "# Predict on the test data\n",
        "y_pred = pipeline.predict(X_test)\n",
        "\n",
        "# Evaluate the model\n",
        "print(classification_report(y_test, y_pred))"
      ]
    },
    {
      "cell_type": "markdown",
      "metadata": {},
      "source": [
        "#### SVM with TF-IDF with negation"
      ]
    },
    {
      "cell_type": "code",
      "execution_count": null,
      "metadata": {},
      "outputs": [],
      "source": [
        "# Pipeline to perform SVM\n",
        "pipeline = Pipeline([\n",
        "    ('vectorizer', TfidfVectorizer()),\n",
        "    ('classifier', SVC())\n",
        "])\n",
        "\n",
        "# Fit the pipeline on the training data\n",
        "pipeline.fit(X_train, y_train)\n",
        "\n",
        "# Predict on the test data\n",
        "y_pred = pipeline.predict(X_test)\n",
        "\n",
        "# Evaluate the model\n",
        "print(classification_report(y_test, y_pred))"
      ]
    },
    {
      "cell_type": "markdown",
      "metadata": {},
      "source": [
        "### Feature Extraction - Word Embeddings with negation"
      ]
    },
    {
      "cell_type": "code",
      "execution_count": null,
      "metadata": {},
      "outputs": [],
      "source": [
        "# Convert the Series of lists into a 2D NumPy array\n",
        "X_train = np.vstack(df_train['negations_review'].apply(lambda x: tokens_to_avg_vectors(x, embeddings_index)))\n",
        "X_test = np.vstack(df_test['negations_review'].apply(lambda x: tokens_to_avg_vectors(x, embeddings_index)))"
      ]
    },
    {
      "cell_type": "code",
      "execution_count": null,
      "metadata": {},
      "outputs": [],
      "source": [
        "X_train"
      ]
    },
    {
      "cell_type": "markdown",
      "metadata": {},
      "source": [
        "#### Logistic Regression with Word Embeddings and negations"
      ]
    },
    {
      "cell_type": "code",
      "execution_count": null,
      "metadata": {},
      "outputs": [],
      "source": [
        "# Pipeline to perform Logistic Regression with Word Embeddings\n",
        "pipeline = Pipeline([\n",
        "    ('classifier', LogisticRegression())\n",
        "])\n",
        "\n",
        "# Fit the pipeline on the training data\n",
        "pipeline.fit(X_train, y_train)\n",
        "\n",
        "# Predict on the test data\n",
        "y_pred = pipeline.predict(X_test)\n",
        "\n",
        "# Evaluate the model\n",
        "print(classification_report(y_test, y_pred))"
      ]
    },
    {
      "cell_type": "markdown",
      "metadata": {},
      "source": [
        "#### SVM with Word Embeddings and negations"
      ]
    },
    {
      "cell_type": "code",
      "execution_count": null,
      "metadata": {},
      "outputs": [],
      "source": [
        "# Pipeline to perform SVM with Word Embeddings\n",
        "pipeline = Pipeline([\n",
        "    ('classifier', SVC())\n",
        "])\n",
        "\n",
        "# Fit the pipeline on the training data\n",
        "pipeline.fit(X_train, y_train)\n",
        "\n",
        "# Predict on the test data\n",
        "y_pred = pipeline.predict(X_test)\n",
        "\n",
        "# Evaluate the model\n",
        "print(classification_report(y_test, y_pred))"
      ]
    },
    {
      "cell_type": "code",
      "execution_count": null,
      "metadata": {},
      "outputs": [],
      "source": [
        "df_test.head()"
      ]
    },
    {
      "cell_type": "code",
      "execution_count": null,
      "metadata": {},
      "outputs": [],
      "source": [
        "# Convert list of tuples to a flat list where each word is combined with its POS tag\n",
        "def flatten_pos_tags(pos_list):\n",
        "    return ' '.join([f'{word}_{pos}' for word, pos in pos_list])\n",
        "\n",
        "# Apply the conversion on your DataFrame\n",
        "X_train = df_train['tags_spacy'].apply(flatten_pos_tags)\n",
        "X_test = df_test['tags_spacy'].apply(flatten_pos_tags)\n",
        "y_train = df_train['sentiment_numeric']\n",
        "y_test = df_test['sentiment_numeric']\n",
        "\n",
        "# Append the features (X_train, y_train) to the features df\n",
        "train_features['pos_tags'] = X_train\n",
        "test_features['pos_tags'] = X_test\n"
      ]
    },
    {
      "cell_type": "markdown",
      "metadata": {},
      "source": [
        "#### Logistic Regression with POS tagging with negation"
      ]
    },
    {
      "cell_type": "code",
      "execution_count": null,
      "metadata": {},
      "outputs": [],
      "source": [
        "# Pipeline to perform Logistic Regression with POS-Tagging as feature\n",
        "pipeline = Pipeline([\n",
        "    ('vectorizer', CountVectorizer()),\n",
        "    ('classifier', LogisticRegression())\n",
        "])\n",
        "\n",
        "# Fit the pipeline on the training data\n",
        "pipeline.fit(X_train, y_train)\n",
        "\n",
        "# Predict on the test data\n",
        "y_pred = pipeline.predict(X_test)\n",
        "\n",
        "# Evaluate the model\n",
        "print(classification_report(y_test, y_pred))"
      ]
    },
    {
      "cell_type": "markdown",
      "metadata": {},
      "source": [
        "#### Naive Bayes with POS Tagging"
      ]
    },
    {
      "cell_type": "code",
      "execution_count": null,
      "metadata": {},
      "outputs": [],
      "source": [
        "# Pipeline to perform Multinomial Naive Bayes with Pos tagging as feature\n",
        "pipeline = Pipeline([\n",
        "    ('vectorizer', CountVectorizer()),\n",
        "    ('classifier', MultinomialNB())\n",
        "])\n",
        "\n",
        "# Fit the pipeline on the training data\n",
        "pipeline.fit(X_train, y_train)\n",
        "\n",
        "# Predict on the test data\n",
        "y_pred = pipeline.predict(X_test)\n",
        "\n",
        "# Evaluate the model\n",
        "print(classification_report(y_test, y_pred))"
      ]
    },
    {
      "cell_type": "markdown",
      "metadata": {},
      "source": [
        "#### SVM with POS Tagging"
      ]
    },
    {
      "cell_type": "code",
      "execution_count": null,
      "metadata": {},
      "outputs": [],
      "source": [
        "# Pipeline to perform SVM with POS-Tagging as feature\n",
        "pipeline = Pipeline([\n",
        "    ('vectorizer', CountVectorizer()),\n",
        "    ('classifier', SVC())\n",
        "])\n",
        "\n",
        "# Fit the pipeline on the training data\n",
        "pipeline.fit(X_train, y_train)\n",
        "\n",
        "# Predict on the test data\n",
        "y_pred = pipeline.predict(X_test)\n",
        "\n",
        "# Evaluate the model\n",
        "print(classification_report(y_test, y_pred))"
      ]
    },
    {
      "cell_type": "markdown",
      "metadata": {},
      "source": [
        "### Tests With Multiple Features"
      ]
    },
    {
      "cell_type": "code",
      "execution_count": null,
      "metadata": {},
      "outputs": [],
      "source": [
        "train_features.head()"
      ]
    },
    {
      "cell_type": "code",
      "execution_count": null,
      "metadata": {},
      "outputs": [],
      "source": [
        "test_features.head()"
      ]
    },
    {
      "cell_type": "code",
      "execution_count": null,
      "metadata": {},
      "outputs": [],
      "source": [
        "# Define the transformations\n",
        "transformations = ColumnTransformer([\n",
        "    ('bow_vectorizer', CountVectorizer(), 'bow_neg'),         # Apply CountVectorizer to the 'bow' column\n",
        "    ('tfidf_vectorizer', TfidfVectorizer(), 'tf_idf_neg'),    # Apply TfidfVectorizer to the 'tf_idf' column\n",
        "    ('pos_vectorizer', CountVectorizer(), 'pos_tags')     # Apply CountVectorizer to the 'pos_tags' column\n",
        "])"
      ]
    },
    {
      "cell_type": "code",
      "execution_count": null,
      "metadata": {},
      "outputs": [],
      "source": [
        "# Define the transformations\n",
        "transformations2 = ColumnTransformer([\n",
        "    ('bow_vectorizer', CountVectorizer(), 'bow_neg'),        \n",
        "    ('tfidf_vectorizer', TfidfVectorizer(), 'tf_idf_neg')\n",
        "])"
      ]
    },
    {
      "cell_type": "markdown",
      "metadata": {},
      "source": [
        "##### SVM with POS tagging, Bag of words and TF-IDF and negations"
      ]
    },
    {
      "cell_type": "code",
      "execution_count": null,
      "metadata": {},
      "outputs": [],
      "source": [
        "# Create the pipeline\n",
        "pipeline_multi = Pipeline([\n",
        "    ('transformations', transformations),\n",
        "    ('classifier', SVC())\n",
        "])\n",
        "\n",
        "# Fit the pipeline on the training data\n",
        "pipeline_multi.fit(train_features[['bow_neg', 'tf_idf_neg', 'pos_tags']], df_train['sentiment_numeric'])\n",
        "\n",
        "# Predict on the test data\n",
        "y_pred = pipeline_multi.predict(test_features[['bow_neg', 'tf_idf_neg', 'pos_tags']])\n",
        "\n",
        "# Evaluate the model using the true labels from the test set\n",
        "print(classification_report(df_test['sentiment_numeric'], y_pred))"
      ]
    },
    {
      "cell_type": "markdown",
      "metadata": {},
      "source": [
        "##### Naive Bayes with POS tagging, Bag of words and TF-IDF with negation"
      ]
    },
    {
      "cell_type": "code",
      "execution_count": null,
      "metadata": {},
      "outputs": [],
      "source": [
        "# Create the pipeline\n",
        "pipeline_multi = Pipeline([\n",
        "    ('transformations', transformations),\n",
        "    ('classifier', MultinomialNB())\n",
        "])\n",
        "# Fit the pipeline on the training data\n",
        "pipeline_multi.fit(train_features[['bow_neg', 'tf_idf_neg', 'pos_tags']], df_train['sentiment_numeric'])\n",
        "\n",
        "# Predict on the test data\n",
        "y_pred = pipeline_multi.predict(test_features[['bow_neg', 'tf_idf_neg', 'pos_tags']])\n",
        "\n",
        "# Evaluate the model\n",
        "print(classification_report(df_test['sentiment_numeric'], y_pred))"
      ]
    },
    {
      "cell_type": "markdown",
      "metadata": {},
      "source": [
        "##### Logistic Regression with POS tagging, Bag of words and TF-IDF"
      ]
    },
    {
      "cell_type": "code",
      "execution_count": null,
      "metadata": {},
      "outputs": [],
      "source": [
        "# Create the pipeline\n",
        "pipeline_multi = Pipeline([\n",
        "    ('transformations', transformations),\n",
        "    ('classifier', LogisticRegression())\n",
        "])\n",
        "# Fit the pipeline on the training data\n",
        "pipeline_multi.fit(train_features[['bow_neg', 'tf_idf_neg', 'pos_tags']], df_train['sentiment_numeric'])\n",
        "\n",
        "# Predict on the test data\n",
        "y_pred = pipeline_multi.predict(test_features[['bow_neg', 'tf_idf_neg', 'pos_tags']])\n",
        "\n",
        "# Evaluate the model using the labels from the test set\n",
        "print(classification_report(df_test['sentiment_numeric'], y_pred))"
      ]
    },
    {
      "cell_type": "markdown",
      "metadata": {
        "id": "0zpvbbjVd93B"
      },
      "source": [
        "## Transformers"
      ]
    },
    {
      "cell_type": "markdown",
      "metadata": {},
      "source": [
        "####  Experiment with pre defined pipelines"
      ]
    },
    {
      "cell_type": "code",
      "execution_count": null,
      "metadata": {
        "id": "O4a3JSead93B"
      },
      "outputs": [],
      "source": [
        "# Change the DataFrame to Dataset\n",
        "train_ds = Dataset.from_pandas(df_train)\n",
        "test_ds = Dataset.from_pandas(df_test)"
      ]
    },
    {
      "cell_type": "code",
      "execution_count": null,
      "metadata": {},
      "outputs": [],
      "source": [
        "# Load your sentiment analysis model\n",
        "classifier = pipeline('sentiment-analysis', model='distilbert-base-uncased')\n",
        "\n",
        "# Get predictions directly using the classifier on the review texts\n",
        "predictions = classifier(list(df_test['review']))\n",
        "\n",
        "# Define a function to convert LABEL_X to the desired format\n",
        "def convert_labels(predictions):\n",
        "    label_mapping = {'LABEL_0': -1, 'LABEL_1': 0, 'LABEL_2': 1}\n",
        "    return [label_mapping[prediction['label']] for prediction in predictions]\n",
        "\n",
        "# Extract and convert labels from predictions\n",
        "converted_labels = convert_labels(predictions)\n",
        "\n",
        "# Print results\n",
        "print(\"Original Labels:\", [pred['label'] for pred in predictions])\n",
        "print(\"Converted Labels:\", converted_labels)\n",
        "\n",
        "# Print the classification report\n",
        "print(classification_report( converted_labels,df_test['sentiment_numeric']))\n"
      ]
    },
    {
      "cell_type": "markdown",
      "metadata": {},
      "source": [
        "#### Fine tunning the model with rotten tomatoes data"
      ]
    },
    {
      "cell_type": "code",
      "execution_count": null,
      "metadata": {},
      "outputs": [],
      "source": [
        "# Function to tokenize the dataset and add labels\n",
        "def tokenize_and_add_labels(dataset, tokenizer):\n",
        "    # Tokenize the text and align with the model's expected input\n",
        "    tokenized_inputs = tokenizer(\n",
        "        dataset['review'],\n",
        "        padding='max_length',  # Pad or truncate to a maximum length\n",
        "        truncation=True,\n",
        "        max_length=512\n",
        "    )\n",
        "    # Add a 'labels' field to use with the model\n",
        "    tokenized_inputs['labels'] = dataset['sentiment_numeric']\n",
        "    return tokenized_inputs"
      ]
    },
    {
      "cell_type": "code",
      "execution_count": null,
      "metadata": {},
      "outputs": [],
      "source": [
        "# Function to compute metrics of the given model \n",
        "\n",
        "def compute_metrics(eval_pred):\n",
        "    # Extract logits and labels from the evaluation prediction\n",
        "    logits, labels = eval_pred\n",
        "    predictions = np.argmax(logits, axis=-1)\n",
        "    \n",
        "    # Compute and print classification report\n",
        "    report = classification_report(labels, predictions, target_names=[\"LABEL_0\", \"LABEL_1\", \"LABEL_2\"], output_dict=True)\n",
        "    \n",
        "    # Simplify the output to match the previous structure if needed\n",
        "    return {\n",
        "        \"accuracy\": report['accuracy'],\n",
        "        \"f1\": report['macro avg']['f1-score'],\n",
        "        \"precision\": report['macro avg']['precision'],\n",
        "        \"recall\": report['macro avg']['recall']\n",
        "    }"
      ]
    },
    {
      "cell_type": "code",
      "execution_count": null,
      "metadata": {},
      "outputs": [],
      "source": [
        "# Main training function\n",
        "def main(df_train, df_test):\n",
        "\n",
        "    # Adjust labels in DataFrame\n",
        "    df_train['sentiment_numeric'] += 1\n",
        "    df_test['sentiment_numeric'] += 1\n",
        "    \n",
        "    # Convert DataFrames to Hugging Face dataset format\n",
        "    train_ds = Dataset.from_pandas(df_train)\n",
        "    test_ds = Dataset.from_pandas(df_test)\n",
        "\n",
        "    # Load the tokenizer\n",
        "    tokenizer = DistilBertTokenizerFast.from_pretrained('distilbert-base-uncased')\n",
        "\n",
        "    # Tokenize data\n",
        "    tokenized_train = train_ds.map(lambda x: tokenize_and_add_labels(x, tokenizer), batched=True)\n",
        "    tokenized_test = test_ds.map(lambda x: tokenize_and_add_labels(x, tokenizer), batched=True)\n",
        "\n",
        "    # Model and training setup\n",
        "    model = DistilBertForSequenceClassification.from_pretrained('distilbert-base-uncased', num_labels=3)\n",
        "    data_collator = DataCollatorWithPadding(tokenizer=tokenizer)\n",
        "    \n",
        "    training_args = TrainingArguments(\n",
        "        output_dir='./results',\n",
        "        num_train_epochs=2,\n",
        "        per_device_train_batch_size=8,\n",
        "        per_device_eval_batch_size=16,\n",
        "        warmup_steps=300,\n",
        "        weight_decay=0.01,\n",
        "        logging_dir='./logs',\n",
        "        logging_steps=10,\n",
        "        evaluation_strategy=\"epoch\",\n",
        "        save_strategy=\"epoch\"\n",
        "    )\n",
        "    \n",
        "    trainer = Trainer(\n",
        "        model=model,\n",
        "        args=training_args,\n",
        "        train_dataset=tokenized_train,\n",
        "        eval_dataset=tokenized_test,\n",
        "        tokenizer=tokenizer,\n",
        "        data_collator=data_collator,\n",
        "        compute_metrics=compute_metrics,\n",
        "    )\n",
        "    \n",
        "    # Train and evaluate the model\n",
        "    trainer.train()\n",
        "    eval_results = trainer.evaluate()\n",
        "    print(f\"Evaluation results: {eval_results}\")\n",
        "    "
      ]
    },
    {
      "cell_type": "code",
      "execution_count": null,
      "metadata": {},
      "outputs": [],
      "source": [
        "model = main(df_train, df_test)"
      ]
    },
    {
      "cell_type": "code",
      "execution_count": null,
      "metadata": {
        "id": "8pENhHrRd93B"
      },
      "outputs": [],
      "source": [
        "# install if error in model = main(df_train, df_test)\n",
        "#pip install accelerate -U"
      ]
    },
    {
      "cell_type": "markdown",
      "metadata": {
        "id": "WfZtkacLd93C"
      },
      "source": [
        "## Generative Model"
      ]
    },
    {
      "cell_type": "code",
      "execution_count": 2,
      "metadata": {
        "colab": {
          "base_uri": "https://localhost:8080/"
        },
        "id": "rG3EBwaUjWjP",
        "outputId": "455cff4a-1e47-4231-e17e-1cb3c56be4fa"
      },
      "outputs": [],
      "source": [
        "# Load the dataset\n",
        "data = pd.read_csv('notebooks-challenge.txt', delimiter='\\t', header=None)\n",
        "data.columns = ['review']\n",
        "\n",
        "# Preprocess the data (example: lowercasing)\n",
        "data['review'] = data['review'].str.lower()"
      ]
    },
    {
      "cell_type": "code",
      "execution_count": 3,
      "metadata": {
        "id": "QRUkYQwrhHpP"
      },
      "outputs": [],
      "source": [
        "df_train = pd.read_csv('notebooks-train.csv', delimiter='\\t')"
      ]
    },
    {
      "cell_type": "code",
      "execution_count": 4,
      "metadata": {
        "colab": {
          "base_uri": "https://localhost:8080/",
          "height": 424
        },
        "id": "8Mh5IcJwhHyL",
        "outputId": "8b1a303d-df12-458f-924d-6f2636c769f6"
      },
      "outputs": [
        {
          "data": {
            "text/html": [
              "<div>\n",
              "<style scoped>\n",
              "    .dataframe tbody tr th:only-of-type {\n",
              "        vertical-align: middle;\n",
              "    }\n",
              "\n",
              "    .dataframe tbody tr th {\n",
              "        vertical-align: top;\n",
              "    }\n",
              "\n",
              "    .dataframe thead th {\n",
              "        text-align: right;\n",
              "    }\n",
              "</style>\n",
              "<table border=\"1\" class=\"dataframe\">\n",
              "  <thead>\n",
              "    <tr style=\"text-align: right;\">\n",
              "      <th></th>\n",
              "      <th>review</th>\n",
              "    </tr>\n",
              "  </thead>\n",
              "  <tbody>\n",
              "    <tr>\n",
              "      <th>0</th>\n",
              "      <td>o note é bom, mas não superou as expectativas ...</td>\n",
              "    </tr>\n",
              "    <tr>\n",
              "      <th>1</th>\n",
              "      <td>ele corresponde ao valor pago. custando em méd...</td>\n",
              "    </tr>\n",
              "    <tr>\n",
              "      <th>2</th>\n",
              "      <td>o notebook é muito bom, o windows 10 ferra um ...</td>\n",
              "    </tr>\n",
              "    <tr>\n",
              "      <th>3</th>\n",
              "      <td>o notebook tem uma tela enorme, muito útil par...</td>\n",
              "    </tr>\n",
              "    <tr>\n",
              "      <th>4</th>\n",
              "      <td>review_text</td>\n",
              "    </tr>\n",
              "  </tbody>\n",
              "</table>\n",
              "</div>"
            ],
            "text/plain": [
              "                                              review\n",
              "0  o note é bom, mas não superou as expectativas ...\n",
              "1  ele corresponde ao valor pago. custando em méd...\n",
              "2  o notebook é muito bom, o windows 10 ferra um ...\n",
              "3  o notebook tem uma tela enorme, muito útil par...\n",
              "4                                        review_text"
            ]
          },
          "execution_count": 4,
          "metadata": {},
          "output_type": "execute_result"
        }
      ],
      "source": [
        "data.head()"
      ]
    },
    {
      "cell_type": "code",
      "execution_count": 15,
      "metadata": {},
      "outputs": [],
      "source": [
        "#openai.api_key = ''\n",
        "\n",
        "# Function to get sentiment that uses gpt-3.5 openai model and returns lables pos or neg\n",
        "def get_sentiment(text):\n",
        "    response = openai.Completion.create(\n",
        "        engine=\"gpt-3.5-turbo-instruct\",\n",
        "        prompt=f\"Sentiment analysis of the following text:\\n{text}\\n\",\n",
        "        temperature=0.7,  # More nuanced responses\n",
        "        max_tokens=5,  # Allow more tokens to capture terms like 'neutral' or 'neu'\n",
        "        top_p=1,\n",
        "        frequency_penalty=0,\n",
        "        presence_penalty=0,\n",
        "        stop=[\"\\n\"]\n",
        "    )\n",
        "\n",
        "    sentiment = response.choices[0].text.strip().lower()\n",
        "    return 'pos' if 'pos' in sentiment else 'neg'"
      ]
    },
    {
      "cell_type": "code",
      "execution_count": 16,
      "metadata": {},
      "outputs": [],
      "source": [
        "# If error install\n",
        "#!pip install openai==0.28"
      ]
    },
    {
      "cell_type": "code",
      "execution_count": 17,
      "metadata": {},
      "outputs": [
        {
          "name": "stderr",
          "output_type": "stream",
          "text": [
            "100%|██████████| 422/422 [02:04<00:00,  3.38it/s]\n"
          ]
        }
      ],
      "source": [
        "# Apply the function to get labels\n",
        "tqdm.pandas()\n",
        "data['sentiment'] = data['review'].progress_apply(lambda x: get_sentiment(x))"
      ]
    },
    {
      "cell_type": "code",
      "execution_count": 18,
      "metadata": {},
      "outputs": [],
      "source": [
        "# Take sample for comparison in classification report\n",
        "data_sample = df_train.sample(n=422, random_state=1) "
      ]
    },
    {
      "cell_type": "code",
      "execution_count": 19,
      "metadata": {},
      "outputs": [
        {
          "name": "stdout",
          "output_type": "stream",
          "text": [
            "              precision    recall  f1-score   support\n",
            "\n",
            "         neg       0.21      1.00      0.35        88\n",
            "         pos       1.00      0.02      0.05       334\n",
            "\n",
            "    accuracy                           0.23       422\n",
            "   macro avg       0.61      0.51      0.20       422\n",
            "weighted avg       0.84      0.23      0.11       422\n",
            "\n"
          ]
        }
      ],
      "source": [
        "# Evaluation of approach\n",
        "print(classification_report(data_sample['sentiment'], data['sentiment']))"
      ]
    },
    {
      "cell_type": "code",
      "execution_count": null,
      "metadata": {},
      "outputs": [],
      "source": [
        "# Change column names to match with notebook-train.csv\n",
        "columns = ['review_text', 'sentiment']\n",
        "data.columns = columns"
      ]
    },
    {
      "cell_type": "code",
      "execution_count": null,
      "metadata": {},
      "outputs": [],
      "source": [
        "data = data[['sentiment', 'review_text']]"
      ]
    },
    {
      "cell_type": "code",
      "execution_count": null,
      "metadata": {},
      "outputs": [],
      "source": [
        "data"
      ]
    },
    {
      "cell_type": "code",
      "execution_count": null,
      "metadata": {},
      "outputs": [],
      "source": [
        "# Export dataframe \n",
        "data.to_csv(\"notebook-challenge.csv\", header=True, index=False)"
      ]
    }
  ],
  "metadata": {
    "accelerator": "TPU",
    "colab": {
      "gpuType": "V28",
      "provenance": []
    },
    "kernelspec": {
      "display_name": "pyspark_env",
      "language": "python",
      "name": "pyspark_env"
    },
    "language_info": {
      "codemirror_mode": {
        "name": "ipython",
        "version": 3
      },
      "file_extension": ".py",
      "mimetype": "text/x-python",
      "name": "python",
      "nbconvert_exporter": "python",
      "pygments_lexer": "ipython3",
      "version": "3.12.2"
    },
    "widgets": {
      "application/vnd.jupyter.widget-state+json": {
        "06b55af9438c4605b61ca4e52d787299": {
          "model_module": "@jupyter-widgets/controls",
          "model_module_version": "1.5.0",
          "model_name": "HTMLModel",
          "state": {
            "_dom_classes": [],
            "_model_module": "@jupyter-widgets/controls",
            "_model_module_version": "1.5.0",
            "_model_name": "HTMLModel",
            "_view_count": null,
            "_view_module": "@jupyter-widgets/controls",
            "_view_module_version": "1.5.0",
            "_view_name": "HTMLView",
            "description": "",
            "description_tooltip": null,
            "layout": "IPY_MODEL_30ee589c2fb44f9b94f852570877845f",
            "placeholder": "​",
            "style": "IPY_MODEL_6fa49aeb21e04d9c9e7116d5126d9a60",
            "value": "Downloading https://huggingface.co/stanfordnlp/stanza-en/resolve/v1.8.0/models/sentiment/sstplus_charlm.pt: 100%"
          }
        },
        "0e61cc18aed84451945718bc9d0a19a9": {
          "model_module": "@jupyter-widgets/controls",
          "model_module_version": "1.5.0",
          "model_name": "HBoxModel",
          "state": {
            "_dom_classes": [],
            "_model_module": "@jupyter-widgets/controls",
            "_model_module_version": "1.5.0",
            "_model_name": "HBoxModel",
            "_view_count": null,
            "_view_module": "@jupyter-widgets/controls",
            "_view_module_version": "1.5.0",
            "_view_name": "HBoxView",
            "box_style": "",
            "children": [
              "IPY_MODEL_06b55af9438c4605b61ca4e52d787299",
              "IPY_MODEL_e1de369b51f34d7abd017d2c5d47fba8",
              "IPY_MODEL_f7184b15e562491d94aa8bbb014d8a8d"
            ],
            "layout": "IPY_MODEL_56c8d37bc6af47e1b81f4b5a2084c283"
          }
        },
        "1ee684f0668446f1a2eb49216d3f6a5f": {
          "model_module": "@jupyter-widgets/controls",
          "model_module_version": "1.5.0",
          "model_name": "HTMLModel",
          "state": {
            "_dom_classes": [],
            "_model_module": "@jupyter-widgets/controls",
            "_model_module_version": "1.5.0",
            "_model_name": "HTMLModel",
            "_view_count": null,
            "_view_module": "@jupyter-widgets/controls",
            "_view_module_version": "1.5.0",
            "_view_name": "HTMLView",
            "description": "",
            "description_tooltip": null,
            "layout": "IPY_MODEL_57fe2ee4135543a1bc0187153a033afa",
            "placeholder": "​",
            "style": "IPY_MODEL_c9fb43116fea41efb03e9243a3d0a7dc",
            "value": " 379k/? [00:00&lt;00:00, 11.8MB/s]"
          }
        },
        "1fcef5f1e42749b2b7de52009e8091f9": {
          "model_module": "@jupyter-widgets/base",
          "model_module_version": "1.2.0",
          "model_name": "LayoutModel",
          "state": {
            "_model_module": "@jupyter-widgets/base",
            "_model_module_version": "1.2.0",
            "_model_name": "LayoutModel",
            "_view_count": null,
            "_view_module": "@jupyter-widgets/base",
            "_view_module_version": "1.2.0",
            "_view_name": "LayoutView",
            "align_content": null,
            "align_items": null,
            "align_self": null,
            "border": null,
            "bottom": null,
            "display": null,
            "flex": null,
            "flex_flow": null,
            "grid_area": null,
            "grid_auto_columns": null,
            "grid_auto_flow": null,
            "grid_auto_rows": null,
            "grid_column": null,
            "grid_gap": null,
            "grid_row": null,
            "grid_template_areas": null,
            "grid_template_columns": null,
            "grid_template_rows": null,
            "height": null,
            "justify_content": null,
            "justify_items": null,
            "left": null,
            "margin": null,
            "max_height": null,
            "max_width": null,
            "min_height": null,
            "min_width": null,
            "object_fit": null,
            "object_position": null,
            "order": null,
            "overflow": null,
            "overflow_x": null,
            "overflow_y": null,
            "padding": null,
            "right": null,
            "top": null,
            "visibility": null,
            "width": null
          }
        },
        "2409cfbdbfad463f88cf29eb5ad51899": {
          "model_module": "@jupyter-widgets/base",
          "model_module_version": "1.2.0",
          "model_name": "LayoutModel",
          "state": {
            "_model_module": "@jupyter-widgets/base",
            "_model_module_version": "1.2.0",
            "_model_name": "LayoutModel",
            "_view_count": null,
            "_view_module": "@jupyter-widgets/base",
            "_view_module_version": "1.2.0",
            "_view_name": "LayoutView",
            "align_content": null,
            "align_items": null,
            "align_self": null,
            "border": null,
            "bottom": null,
            "display": null,
            "flex": null,
            "flex_flow": null,
            "grid_area": null,
            "grid_auto_columns": null,
            "grid_auto_flow": null,
            "grid_auto_rows": null,
            "grid_column": null,
            "grid_gap": null,
            "grid_row": null,
            "grid_template_areas": null,
            "grid_template_columns": null,
            "grid_template_rows": null,
            "height": null,
            "justify_content": null,
            "justify_items": null,
            "left": null,
            "margin": null,
            "max_height": null,
            "max_width": null,
            "min_height": null,
            "min_width": null,
            "object_fit": null,
            "object_position": null,
            "order": null,
            "overflow": null,
            "overflow_x": null,
            "overflow_y": null,
            "padding": null,
            "right": null,
            "top": null,
            "visibility": null,
            "width": null
          }
        },
        "246ca019344d4df8af5818e45f116005": {
          "model_module": "@jupyter-widgets/controls",
          "model_module_version": "1.5.0",
          "model_name": "HTMLModel",
          "state": {
            "_dom_classes": [],
            "_model_module": "@jupyter-widgets/controls",
            "_model_module_version": "1.5.0",
            "_model_name": "HTMLModel",
            "_view_count": null,
            "_view_module": "@jupyter-widgets/controls",
            "_view_module_version": "1.5.0",
            "_view_name": "HTMLView",
            "description": "",
            "description_tooltip": null,
            "layout": "IPY_MODEL_76fd44c11a8f48a38afb33bc9adf7a42",
            "placeholder": "​",
            "style": "IPY_MODEL_e399aaf1ff784a37a4a37089a989baea",
            "value": " 616k/616k [00:00&lt;00:00, 9.60MB/s]"
          }
        },
        "27197623dab24c28955e0c64ec025ce3": {
          "model_module": "@jupyter-widgets/controls",
          "model_module_version": "1.5.0",
          "model_name": "HTMLModel",
          "state": {
            "_dom_classes": [],
            "_model_module": "@jupyter-widgets/controls",
            "_model_module_version": "1.5.0",
            "_model_name": "HTMLModel",
            "_view_count": null,
            "_view_module": "@jupyter-widgets/controls",
            "_view_module_version": "1.5.0",
            "_view_name": "HTMLView",
            "description": "",
            "description_tooltip": null,
            "layout": "IPY_MODEL_c097b3dd23b74bd986ff31dc066c6380",
            "placeholder": "​",
            "style": "IPY_MODEL_702271f06d014cccb2ada33014ca0a30",
            "value": "Downloading https://raw.githubusercontent.com/stanfordnlp/stanza-resources/main/resources_1.8.0.json: "
          }
        },
        "28faf9b8149e4ff889942fa78eb4e05a": {
          "model_module": "@jupyter-widgets/controls",
          "model_module_version": "1.5.0",
          "model_name": "HTMLModel",
          "state": {
            "_dom_classes": [],
            "_model_module": "@jupyter-widgets/controls",
            "_model_module_version": "1.5.0",
            "_model_name": "HTMLModel",
            "_view_count": null,
            "_view_module": "@jupyter-widgets/controls",
            "_view_module_version": "1.5.0",
            "_view_name": "HTMLView",
            "description": "",
            "description_tooltip": null,
            "layout": "IPY_MODEL_8ab8525174e24dcc8cc16e70c89cc618",
            "placeholder": "​",
            "style": "IPY_MODEL_bb0291e8d1534dd4841a4a9ff969c48b",
            "value": "Downloading https://huggingface.co/stanfordnlp/stanza-en/resolve/v1.8.0/models/ner/ontonotes-ww-multi_charlm.pt: 100%"
          }
        },
        "30ee589c2fb44f9b94f852570877845f": {
          "model_module": "@jupyter-widgets/base",
          "model_module_version": "1.2.0",
          "model_name": "LayoutModel",
          "state": {
            "_model_module": "@jupyter-widgets/base",
            "_model_module_version": "1.2.0",
            "_model_name": "LayoutModel",
            "_view_count": null,
            "_view_module": "@jupyter-widgets/base",
            "_view_module_version": "1.2.0",
            "_view_name": "LayoutView",
            "align_content": null,
            "align_items": null,
            "align_self": null,
            "border": null,
            "bottom": null,
            "display": null,
            "flex": null,
            "flex_flow": null,
            "grid_area": null,
            "grid_auto_columns": null,
            "grid_auto_flow": null,
            "grid_auto_rows": null,
            "grid_column": null,
            "grid_gap": null,
            "grid_row": null,
            "grid_template_areas": null,
            "grid_template_columns": null,
            "grid_template_rows": null,
            "height": null,
            "justify_content": null,
            "justify_items": null,
            "left": null,
            "margin": null,
            "max_height": null,
            "max_width": null,
            "min_height": null,
            "min_width": null,
            "object_fit": null,
            "object_position": null,
            "order": null,
            "overflow": null,
            "overflow_x": null,
            "overflow_y": null,
            "padding": null,
            "right": null,
            "top": null,
            "visibility": null,
            "width": null
          }
        },
        "32c55f5f18b445eaa57bfe46f4a33721": {
          "model_module": "@jupyter-widgets/base",
          "model_module_version": "1.2.0",
          "model_name": "LayoutModel",
          "state": {
            "_model_module": "@jupyter-widgets/base",
            "_model_module_version": "1.2.0",
            "_model_name": "LayoutModel",
            "_view_count": null,
            "_view_module": "@jupyter-widgets/base",
            "_view_module_version": "1.2.0",
            "_view_name": "LayoutView",
            "align_content": null,
            "align_items": null,
            "align_self": null,
            "border": null,
            "bottom": null,
            "display": null,
            "flex": null,
            "flex_flow": null,
            "grid_area": null,
            "grid_auto_columns": null,
            "grid_auto_flow": null,
            "grid_auto_rows": null,
            "grid_column": null,
            "grid_gap": null,
            "grid_row": null,
            "grid_template_areas": null,
            "grid_template_columns": null,
            "grid_template_rows": null,
            "height": null,
            "justify_content": null,
            "justify_items": null,
            "left": null,
            "margin": null,
            "max_height": null,
            "max_width": null,
            "min_height": null,
            "min_width": null,
            "object_fit": null,
            "object_position": null,
            "order": null,
            "overflow": null,
            "overflow_x": null,
            "overflow_y": null,
            "padding": null,
            "right": null,
            "top": null,
            "visibility": null,
            "width": null
          }
        },
        "346cb770e005428790f1428353f50ef3": {
          "model_module": "@jupyter-widgets/controls",
          "model_module_version": "1.5.0",
          "model_name": "HBoxModel",
          "state": {
            "_dom_classes": [],
            "_model_module": "@jupyter-widgets/controls",
            "_model_module_version": "1.5.0",
            "_model_name": "HBoxModel",
            "_view_count": null,
            "_view_module": "@jupyter-widgets/controls",
            "_view_module_version": "1.5.0",
            "_view_name": "HBoxView",
            "box_style": "",
            "children": [
              "IPY_MODEL_9af95c292b9a444cac0daca4d98e926f",
              "IPY_MODEL_79e74a999e434e2abe3cfaf7d1e36478",
              "IPY_MODEL_afc2f3426ac04238ac3c6394e87dcf10"
            ],
            "layout": "IPY_MODEL_aa5f6c6831bc41529668dbde897c099c"
          }
        },
        "358cb2f56d6743adbd45738c985cf9dc": {
          "model_module": "@jupyter-widgets/controls",
          "model_module_version": "1.5.0",
          "model_name": "ProgressStyleModel",
          "state": {
            "_model_module": "@jupyter-widgets/controls",
            "_model_module_version": "1.5.0",
            "_model_name": "ProgressStyleModel",
            "_view_count": null,
            "_view_module": "@jupyter-widgets/base",
            "_view_module_version": "1.2.0",
            "_view_name": "StyleView",
            "bar_color": null,
            "description_width": ""
          }
        },
        "36337bdbde404a30a0fa19db9720ea71": {
          "model_module": "@jupyter-widgets/base",
          "model_module_version": "1.2.0",
          "model_name": "LayoutModel",
          "state": {
            "_model_module": "@jupyter-widgets/base",
            "_model_module_version": "1.2.0",
            "_model_name": "LayoutModel",
            "_view_count": null,
            "_view_module": "@jupyter-widgets/base",
            "_view_module_version": "1.2.0",
            "_view_name": "LayoutView",
            "align_content": null,
            "align_items": null,
            "align_self": null,
            "border": null,
            "bottom": null,
            "display": null,
            "flex": null,
            "flex_flow": null,
            "grid_area": null,
            "grid_auto_columns": null,
            "grid_auto_flow": null,
            "grid_auto_rows": null,
            "grid_column": null,
            "grid_gap": null,
            "grid_row": null,
            "grid_template_areas": null,
            "grid_template_columns": null,
            "grid_template_rows": null,
            "height": null,
            "justify_content": null,
            "justify_items": null,
            "left": null,
            "margin": null,
            "max_height": null,
            "max_width": null,
            "min_height": null,
            "min_width": null,
            "object_fit": null,
            "object_position": null,
            "order": null,
            "overflow": null,
            "overflow_x": null,
            "overflow_y": null,
            "padding": null,
            "right": null,
            "top": null,
            "visibility": null,
            "width": null
          }
        },
        "4a95334d50704a48aa62394cd620484f": {
          "model_module": "@jupyter-widgets/controls",
          "model_module_version": "1.5.0",
          "model_name": "HTMLModel",
          "state": {
            "_dom_classes": [],
            "_model_module": "@jupyter-widgets/controls",
            "_model_module_version": "1.5.0",
            "_model_name": "HTMLModel",
            "_view_count": null,
            "_view_module": "@jupyter-widgets/controls",
            "_view_module_version": "1.5.0",
            "_view_name": "HTMLView",
            "description": "",
            "description_tooltip": null,
            "layout": "IPY_MODEL_36337bdbde404a30a0fa19db9720ea71",
            "placeholder": "​",
            "style": "IPY_MODEL_9ef99bdbbae044d6a58bcbf0f279894f",
            "value": "Downloading https://huggingface.co/stanfordnlp/stanza-en/resolve/v1.8.0/models/tokenize/combined.pt: 100%"
          }
        },
        "4d63d54e7899473e90410da9e0c11eb9": {
          "model_module": "@jupyter-widgets/base",
          "model_module_version": "1.2.0",
          "model_name": "LayoutModel",
          "state": {
            "_model_module": "@jupyter-widgets/base",
            "_model_module_version": "1.2.0",
            "_model_name": "LayoutModel",
            "_view_count": null,
            "_view_module": "@jupyter-widgets/base",
            "_view_module_version": "1.2.0",
            "_view_name": "LayoutView",
            "align_content": null,
            "align_items": null,
            "align_self": null,
            "border": null,
            "bottom": null,
            "display": null,
            "flex": null,
            "flex_flow": null,
            "grid_area": null,
            "grid_auto_columns": null,
            "grid_auto_flow": null,
            "grid_auto_rows": null,
            "grid_column": null,
            "grid_gap": null,
            "grid_row": null,
            "grid_template_areas": null,
            "grid_template_columns": null,
            "grid_template_rows": null,
            "height": null,
            "justify_content": null,
            "justify_items": null,
            "left": null,
            "margin": null,
            "max_height": null,
            "max_width": null,
            "min_height": null,
            "min_width": null,
            "object_fit": null,
            "object_position": null,
            "order": null,
            "overflow": null,
            "overflow_x": null,
            "overflow_y": null,
            "padding": null,
            "right": null,
            "top": null,
            "visibility": null,
            "width": null
          }
        },
        "5436b424d480498f9096ef4ff26e0f59": {
          "model_module": "@jupyter-widgets/controls",
          "model_module_version": "1.5.0",
          "model_name": "FloatProgressModel",
          "state": {
            "_dom_classes": [],
            "_model_module": "@jupyter-widgets/controls",
            "_model_module_version": "1.5.0",
            "_model_name": "FloatProgressModel",
            "_view_count": null,
            "_view_module": "@jupyter-widgets/controls",
            "_view_module_version": "1.5.0",
            "_view_name": "ProgressView",
            "bar_style": "success",
            "description": "",
            "description_tooltip": null,
            "layout": "IPY_MODEL_780aec7f9a414870a9098d7ccc2d25a1",
            "max": 650849,
            "min": 0,
            "orientation": "horizontal",
            "style": "IPY_MODEL_ddf20cea0161483c85c5989bcd50952b",
            "value": 650849
          }
        },
        "550d19f6c24e4682806c08251227c847": {
          "model_module": "@jupyter-widgets/controls",
          "model_module_version": "1.5.0",
          "model_name": "ProgressStyleModel",
          "state": {
            "_model_module": "@jupyter-widgets/controls",
            "_model_module_version": "1.5.0",
            "_model_name": "ProgressStyleModel",
            "_view_count": null,
            "_view_module": "@jupyter-widgets/base",
            "_view_module_version": "1.2.0",
            "_view_name": "StyleView",
            "bar_color": null,
            "description_width": ""
          }
        },
        "56c8d37bc6af47e1b81f4b5a2084c283": {
          "model_module": "@jupyter-widgets/base",
          "model_module_version": "1.2.0",
          "model_name": "LayoutModel",
          "state": {
            "_model_module": "@jupyter-widgets/base",
            "_model_module_version": "1.2.0",
            "_model_name": "LayoutModel",
            "_view_count": null,
            "_view_module": "@jupyter-widgets/base",
            "_view_module_version": "1.2.0",
            "_view_name": "LayoutView",
            "align_content": null,
            "align_items": null,
            "align_self": null,
            "border": null,
            "bottom": null,
            "display": null,
            "flex": null,
            "flex_flow": null,
            "grid_area": null,
            "grid_auto_columns": null,
            "grid_auto_flow": null,
            "grid_auto_rows": null,
            "grid_column": null,
            "grid_gap": null,
            "grid_row": null,
            "grid_template_areas": null,
            "grid_template_columns": null,
            "grid_template_rows": null,
            "height": null,
            "justify_content": null,
            "justify_items": null,
            "left": null,
            "margin": null,
            "max_height": null,
            "max_width": null,
            "min_height": null,
            "min_width": null,
            "object_fit": null,
            "object_position": null,
            "order": null,
            "overflow": null,
            "overflow_x": null,
            "overflow_y": null,
            "padding": null,
            "right": null,
            "top": null,
            "visibility": null,
            "width": null
          }
        },
        "57fe2ee4135543a1bc0187153a033afa": {
          "model_module": "@jupyter-widgets/base",
          "model_module_version": "1.2.0",
          "model_name": "LayoutModel",
          "state": {
            "_model_module": "@jupyter-widgets/base",
            "_model_module_version": "1.2.0",
            "_model_name": "LayoutModel",
            "_view_count": null,
            "_view_module": "@jupyter-widgets/base",
            "_view_module_version": "1.2.0",
            "_view_name": "LayoutView",
            "align_content": null,
            "align_items": null,
            "align_self": null,
            "border": null,
            "bottom": null,
            "display": null,
            "flex": null,
            "flex_flow": null,
            "grid_area": null,
            "grid_auto_columns": null,
            "grid_auto_flow": null,
            "grid_auto_rows": null,
            "grid_column": null,
            "grid_gap": null,
            "grid_row": null,
            "grid_template_areas": null,
            "grid_template_columns": null,
            "grid_template_rows": null,
            "height": null,
            "justify_content": null,
            "justify_items": null,
            "left": null,
            "margin": null,
            "max_height": null,
            "max_width": null,
            "min_height": null,
            "min_width": null,
            "object_fit": null,
            "object_position": null,
            "order": null,
            "overflow": null,
            "overflow_x": null,
            "overflow_y": null,
            "padding": null,
            "right": null,
            "top": null,
            "visibility": null,
            "width": null
          }
        },
        "5923d4014f28451ca5021cdc970d4db9": {
          "model_module": "@jupyter-widgets/controls",
          "model_module_version": "1.5.0",
          "model_name": "DescriptionStyleModel",
          "state": {
            "_model_module": "@jupyter-widgets/controls",
            "_model_module_version": "1.5.0",
            "_model_name": "DescriptionStyleModel",
            "_view_count": null,
            "_view_module": "@jupyter-widgets/base",
            "_view_module_version": "1.2.0",
            "_view_name": "StyleView",
            "description_width": ""
          }
        },
        "5e9269de55134f38ade109b4751607ea": {
          "model_module": "@jupyter-widgets/base",
          "model_module_version": "1.2.0",
          "model_name": "LayoutModel",
          "state": {
            "_model_module": "@jupyter-widgets/base",
            "_model_module_version": "1.2.0",
            "_model_name": "LayoutModel",
            "_view_count": null,
            "_view_module": "@jupyter-widgets/base",
            "_view_module_version": "1.2.0",
            "_view_name": "LayoutView",
            "align_content": null,
            "align_items": null,
            "align_self": null,
            "border": null,
            "bottom": null,
            "display": null,
            "flex": null,
            "flex_flow": null,
            "grid_area": null,
            "grid_auto_columns": null,
            "grid_auto_flow": null,
            "grid_auto_rows": null,
            "grid_column": null,
            "grid_gap": null,
            "grid_row": null,
            "grid_template_areas": null,
            "grid_template_columns": null,
            "grid_template_rows": null,
            "height": null,
            "justify_content": null,
            "justify_items": null,
            "left": null,
            "margin": null,
            "max_height": null,
            "max_width": null,
            "min_height": null,
            "min_width": null,
            "object_fit": null,
            "object_position": null,
            "order": null,
            "overflow": null,
            "overflow_x": null,
            "overflow_y": null,
            "padding": null,
            "right": null,
            "top": null,
            "visibility": null,
            "width": null
          }
        },
        "6adb581672794dc6b52f7981ce887a2b": {
          "model_module": "@jupyter-widgets/base",
          "model_module_version": "1.2.0",
          "model_name": "LayoutModel",
          "state": {
            "_model_module": "@jupyter-widgets/base",
            "_model_module_version": "1.2.0",
            "_model_name": "LayoutModel",
            "_view_count": null,
            "_view_module": "@jupyter-widgets/base",
            "_view_module_version": "1.2.0",
            "_view_name": "LayoutView",
            "align_content": null,
            "align_items": null,
            "align_self": null,
            "border": null,
            "bottom": null,
            "display": null,
            "flex": null,
            "flex_flow": null,
            "grid_area": null,
            "grid_auto_columns": null,
            "grid_auto_flow": null,
            "grid_auto_rows": null,
            "grid_column": null,
            "grid_gap": null,
            "grid_row": null,
            "grid_template_areas": null,
            "grid_template_columns": null,
            "grid_template_rows": null,
            "height": null,
            "justify_content": null,
            "justify_items": null,
            "left": null,
            "margin": null,
            "max_height": null,
            "max_width": null,
            "min_height": null,
            "min_width": null,
            "object_fit": null,
            "object_position": null,
            "order": null,
            "overflow": null,
            "overflow_x": null,
            "overflow_y": null,
            "padding": null,
            "right": null,
            "top": null,
            "visibility": null,
            "width": null
          }
        },
        "6b4e94b8618d486f83b1ce5328465932": {
          "model_module": "@jupyter-widgets/base",
          "model_module_version": "1.2.0",
          "model_name": "LayoutModel",
          "state": {
            "_model_module": "@jupyter-widgets/base",
            "_model_module_version": "1.2.0",
            "_model_name": "LayoutModel",
            "_view_count": null,
            "_view_module": "@jupyter-widgets/base",
            "_view_module_version": "1.2.0",
            "_view_name": "LayoutView",
            "align_content": null,
            "align_items": null,
            "align_self": null,
            "border": null,
            "bottom": null,
            "display": null,
            "flex": null,
            "flex_flow": null,
            "grid_area": null,
            "grid_auto_columns": null,
            "grid_auto_flow": null,
            "grid_auto_rows": null,
            "grid_column": null,
            "grid_gap": null,
            "grid_row": null,
            "grid_template_areas": null,
            "grid_template_columns": null,
            "grid_template_rows": null,
            "height": null,
            "justify_content": null,
            "justify_items": null,
            "left": null,
            "margin": null,
            "max_height": null,
            "max_width": null,
            "min_height": null,
            "min_width": null,
            "object_fit": null,
            "object_position": null,
            "order": null,
            "overflow": null,
            "overflow_x": null,
            "overflow_y": null,
            "padding": null,
            "right": null,
            "top": null,
            "visibility": null,
            "width": null
          }
        },
        "6be790bcba09499c8e5a93ea14cd8778": {
          "model_module": "@jupyter-widgets/controls",
          "model_module_version": "1.5.0",
          "model_name": "DescriptionStyleModel",
          "state": {
            "_model_module": "@jupyter-widgets/controls",
            "_model_module_version": "1.5.0",
            "_model_name": "DescriptionStyleModel",
            "_view_count": null,
            "_view_module": "@jupyter-widgets/base",
            "_view_module_version": "1.2.0",
            "_view_name": "StyleView",
            "description_width": ""
          }
        },
        "6fa49aeb21e04d9c9e7116d5126d9a60": {
          "model_module": "@jupyter-widgets/controls",
          "model_module_version": "1.5.0",
          "model_name": "DescriptionStyleModel",
          "state": {
            "_model_module": "@jupyter-widgets/controls",
            "_model_module_version": "1.5.0",
            "_model_name": "DescriptionStyleModel",
            "_view_count": null,
            "_view_module": "@jupyter-widgets/base",
            "_view_module_version": "1.2.0",
            "_view_name": "StyleView",
            "description_width": ""
          }
        },
        "702271f06d014cccb2ada33014ca0a30": {
          "model_module": "@jupyter-widgets/controls",
          "model_module_version": "1.5.0",
          "model_name": "DescriptionStyleModel",
          "state": {
            "_model_module": "@jupyter-widgets/controls",
            "_model_module_version": "1.5.0",
            "_model_name": "DescriptionStyleModel",
            "_view_count": null,
            "_view_module": "@jupyter-widgets/base",
            "_view_module_version": "1.2.0",
            "_view_name": "StyleView",
            "description_width": ""
          }
        },
        "7131d5312b6249988594bc88ccc092f3": {
          "model_module": "@jupyter-widgets/controls",
          "model_module_version": "1.5.0",
          "model_name": "HBoxModel",
          "state": {
            "_dom_classes": [],
            "_model_module": "@jupyter-widgets/controls",
            "_model_module_version": "1.5.0",
            "_model_name": "HBoxModel",
            "_view_count": null,
            "_view_module": "@jupyter-widgets/controls",
            "_view_module_version": "1.5.0",
            "_view_name": "HBoxView",
            "box_style": "",
            "children": [
              "IPY_MODEL_27197623dab24c28955e0c64ec025ce3",
              "IPY_MODEL_842d2dd4a14b4da290d52c31309626d0",
              "IPY_MODEL_1ee684f0668446f1a2eb49216d3f6a5f"
            ],
            "layout": "IPY_MODEL_f1e3bc6c6b964ff19bc1ab3b5967b873"
          }
        },
        "765719cb5272435cb4752adbee60a9d2": {
          "model_module": "@jupyter-widgets/base",
          "model_module_version": "1.2.0",
          "model_name": "LayoutModel",
          "state": {
            "_model_module": "@jupyter-widgets/base",
            "_model_module_version": "1.2.0",
            "_model_name": "LayoutModel",
            "_view_count": null,
            "_view_module": "@jupyter-widgets/base",
            "_view_module_version": "1.2.0",
            "_view_name": "LayoutView",
            "align_content": null,
            "align_items": null,
            "align_self": null,
            "border": null,
            "bottom": null,
            "display": null,
            "flex": null,
            "flex_flow": null,
            "grid_area": null,
            "grid_auto_columns": null,
            "grid_auto_flow": null,
            "grid_auto_rows": null,
            "grid_column": null,
            "grid_gap": null,
            "grid_row": null,
            "grid_template_areas": null,
            "grid_template_columns": null,
            "grid_template_rows": null,
            "height": null,
            "justify_content": null,
            "justify_items": null,
            "left": null,
            "margin": null,
            "max_height": null,
            "max_width": null,
            "min_height": null,
            "min_width": null,
            "object_fit": null,
            "object_position": null,
            "order": null,
            "overflow": null,
            "overflow_x": null,
            "overflow_y": null,
            "padding": null,
            "right": null,
            "top": null,
            "visibility": null,
            "width": null
          }
        },
        "76fd44c11a8f48a38afb33bc9adf7a42": {
          "model_module": "@jupyter-widgets/base",
          "model_module_version": "1.2.0",
          "model_name": "LayoutModel",
          "state": {
            "_model_module": "@jupyter-widgets/base",
            "_model_module_version": "1.2.0",
            "_model_name": "LayoutModel",
            "_view_count": null,
            "_view_module": "@jupyter-widgets/base",
            "_view_module_version": "1.2.0",
            "_view_name": "LayoutView",
            "align_content": null,
            "align_items": null,
            "align_self": null,
            "border": null,
            "bottom": null,
            "display": null,
            "flex": null,
            "flex_flow": null,
            "grid_area": null,
            "grid_auto_columns": null,
            "grid_auto_flow": null,
            "grid_auto_rows": null,
            "grid_column": null,
            "grid_gap": null,
            "grid_row": null,
            "grid_template_areas": null,
            "grid_template_columns": null,
            "grid_template_rows": null,
            "height": null,
            "justify_content": null,
            "justify_items": null,
            "left": null,
            "margin": null,
            "max_height": null,
            "max_width": null,
            "min_height": null,
            "min_width": null,
            "object_fit": null,
            "object_position": null,
            "order": null,
            "overflow": null,
            "overflow_x": null,
            "overflow_y": null,
            "padding": null,
            "right": null,
            "top": null,
            "visibility": null,
            "width": null
          }
        },
        "780aec7f9a414870a9098d7ccc2d25a1": {
          "model_module": "@jupyter-widgets/base",
          "model_module_version": "1.2.0",
          "model_name": "LayoutModel",
          "state": {
            "_model_module": "@jupyter-widgets/base",
            "_model_module_version": "1.2.0",
            "_model_name": "LayoutModel",
            "_view_count": null,
            "_view_module": "@jupyter-widgets/base",
            "_view_module_version": "1.2.0",
            "_view_name": "LayoutView",
            "align_content": null,
            "align_items": null,
            "align_self": null,
            "border": null,
            "bottom": null,
            "display": null,
            "flex": null,
            "flex_flow": null,
            "grid_area": null,
            "grid_auto_columns": null,
            "grid_auto_flow": null,
            "grid_auto_rows": null,
            "grid_column": null,
            "grid_gap": null,
            "grid_row": null,
            "grid_template_areas": null,
            "grid_template_columns": null,
            "grid_template_rows": null,
            "height": null,
            "justify_content": null,
            "justify_items": null,
            "left": null,
            "margin": null,
            "max_height": null,
            "max_width": null,
            "min_height": null,
            "min_width": null,
            "object_fit": null,
            "object_position": null,
            "order": null,
            "overflow": null,
            "overflow_x": null,
            "overflow_y": null,
            "padding": null,
            "right": null,
            "top": null,
            "visibility": null,
            "width": null
          }
        },
        "79e74a999e434e2abe3cfaf7d1e36478": {
          "model_module": "@jupyter-widgets/controls",
          "model_module_version": "1.5.0",
          "model_name": "FloatProgressModel",
          "state": {
            "_dom_classes": [],
            "_model_module": "@jupyter-widgets/controls",
            "_model_module_version": "1.5.0",
            "_model_name": "FloatProgressModel",
            "_view_count": null,
            "_view_module": "@jupyter-widgets/controls",
            "_view_module_version": "1.5.0",
            "_view_name": "ProgressView",
            "bar_style": "success",
            "description": "",
            "description_tooltip": null,
            "layout": "IPY_MODEL_d0a355088d84489ebd65fd9d34bd923a",
            "max": 106701198,
            "min": 0,
            "orientation": "horizontal",
            "style": "IPY_MODEL_550d19f6c24e4682806c08251227c847",
            "value": 106701198
          }
        },
        "842d2dd4a14b4da290d52c31309626d0": {
          "model_module": "@jupyter-widgets/controls",
          "model_module_version": "1.5.0",
          "model_name": "FloatProgressModel",
          "state": {
            "_dom_classes": [],
            "_model_module": "@jupyter-widgets/controls",
            "_model_module_version": "1.5.0",
            "_model_name": "FloatProgressModel",
            "_view_count": null,
            "_view_module": "@jupyter-widgets/controls",
            "_view_module_version": "1.5.0",
            "_view_name": "ProgressView",
            "bar_style": "success",
            "description": "",
            "description_tooltip": null,
            "layout": "IPY_MODEL_6b4e94b8618d486f83b1ce5328465932",
            "max": 47208,
            "min": 0,
            "orientation": "horizontal",
            "style": "IPY_MODEL_aa7cfac3a7cc45a39250aa203f9f431a",
            "value": 47208
          }
        },
        "84668e9448664c408044df8003438471": {
          "model_module": "@jupyter-widgets/controls",
          "model_module_version": "1.5.0",
          "model_name": "HTMLModel",
          "state": {
            "_dom_classes": [],
            "_model_module": "@jupyter-widgets/controls",
            "_model_module_version": "1.5.0",
            "_model_name": "HTMLModel",
            "_view_count": null,
            "_view_module": "@jupyter-widgets/controls",
            "_view_module_version": "1.5.0",
            "_view_name": "HTMLView",
            "description": "",
            "description_tooltip": null,
            "layout": "IPY_MODEL_2409cfbdbfad463f88cf29eb5ad51899",
            "placeholder": "​",
            "style": "IPY_MODEL_cedf661f88f3472d832b34a2380c93fe",
            "value": "Downloading https://huggingface.co/stanfordnlp/stanza-en/resolve/v1.8.0/models/mwt/combined.pt: 100%"
          }
        },
        "85524d03f2b34daa930d515f2c34f63e": {
          "model_module": "@jupyter-widgets/controls",
          "model_module_version": "1.5.0",
          "model_name": "DescriptionStyleModel",
          "state": {
            "_model_module": "@jupyter-widgets/controls",
            "_model_module_version": "1.5.0",
            "_model_name": "DescriptionStyleModel",
            "_view_count": null,
            "_view_module": "@jupyter-widgets/base",
            "_view_module_version": "1.2.0",
            "_view_name": "StyleView",
            "description_width": ""
          }
        },
        "856943146fde46ce85a3640955ff8ed0": {
          "model_module": "@jupyter-widgets/controls",
          "model_module_version": "1.5.0",
          "model_name": "ProgressStyleModel",
          "state": {
            "_model_module": "@jupyter-widgets/controls",
            "_model_module_version": "1.5.0",
            "_model_name": "ProgressStyleModel",
            "_view_count": null,
            "_view_module": "@jupyter-widgets/base",
            "_view_module_version": "1.2.0",
            "_view_name": "StyleView",
            "bar_color": null,
            "description_width": ""
          }
        },
        "897e7281bc6e4847a4b14e7df89b9244": {
          "model_module": "@jupyter-widgets/controls",
          "model_module_version": "1.5.0",
          "model_name": "HBoxModel",
          "state": {
            "_dom_classes": [],
            "_model_module": "@jupyter-widgets/controls",
            "_model_module_version": "1.5.0",
            "_model_name": "HBoxModel",
            "_view_count": null,
            "_view_module": "@jupyter-widgets/controls",
            "_view_module_version": "1.5.0",
            "_view_name": "HBoxView",
            "box_style": "",
            "children": [
              "IPY_MODEL_84668e9448664c408044df8003438471",
              "IPY_MODEL_ec324b14eb274a6a82514c337468bf89",
              "IPY_MODEL_246ca019344d4df8af5818e45f116005"
            ],
            "layout": "IPY_MODEL_1fcef5f1e42749b2b7de52009e8091f9"
          }
        },
        "8a02a36a63ef40c3b7a8c6537bd80895": {
          "model_module": "@jupyter-widgets/controls",
          "model_module_version": "1.5.0",
          "model_name": "FloatProgressModel",
          "state": {
            "_dom_classes": [],
            "_model_module": "@jupyter-widgets/controls",
            "_model_module_version": "1.5.0",
            "_model_name": "FloatProgressModel",
            "_view_count": null,
            "_view_module": "@jupyter-widgets/controls",
            "_view_module_version": "1.5.0",
            "_view_name": "ProgressView",
            "bar_style": "success",
            "description": "",
            "description_tooltip": null,
            "layout": "IPY_MODEL_8ec44dcb15634a76a2d414ae7ba97bd6",
            "max": 65726470,
            "min": 0,
            "orientation": "horizontal",
            "style": "IPY_MODEL_358cb2f56d6743adbd45738c985cf9dc",
            "value": 65726470
          }
        },
        "8ab8525174e24dcc8cc16e70c89cc618": {
          "model_module": "@jupyter-widgets/base",
          "model_module_version": "1.2.0",
          "model_name": "LayoutModel",
          "state": {
            "_model_module": "@jupyter-widgets/base",
            "_model_module_version": "1.2.0",
            "_model_name": "LayoutModel",
            "_view_count": null,
            "_view_module": "@jupyter-widgets/base",
            "_view_module_version": "1.2.0",
            "_view_name": "LayoutView",
            "align_content": null,
            "align_items": null,
            "align_self": null,
            "border": null,
            "bottom": null,
            "display": null,
            "flex": null,
            "flex_flow": null,
            "grid_area": null,
            "grid_auto_columns": null,
            "grid_auto_flow": null,
            "grid_auto_rows": null,
            "grid_column": null,
            "grid_gap": null,
            "grid_row": null,
            "grid_template_areas": null,
            "grid_template_columns": null,
            "grid_template_rows": null,
            "height": null,
            "justify_content": null,
            "justify_items": null,
            "left": null,
            "margin": null,
            "max_height": null,
            "max_width": null,
            "min_height": null,
            "min_width": null,
            "object_fit": null,
            "object_position": null,
            "order": null,
            "overflow": null,
            "overflow_x": null,
            "overflow_y": null,
            "padding": null,
            "right": null,
            "top": null,
            "visibility": null,
            "width": null
          }
        },
        "8c7f5cf922784ef993125bfe33c2979a": {
          "model_module": "@jupyter-widgets/controls",
          "model_module_version": "1.5.0",
          "model_name": "HTMLModel",
          "state": {
            "_dom_classes": [],
            "_model_module": "@jupyter-widgets/controls",
            "_model_module_version": "1.5.0",
            "_model_name": "HTMLModel",
            "_view_count": null,
            "_view_module": "@jupyter-widgets/controls",
            "_view_module_version": "1.5.0",
            "_view_name": "HTMLView",
            "description": "",
            "description_tooltip": null,
            "layout": "IPY_MODEL_a7db4ebded034c5fa04c147791da3eb4",
            "placeholder": "​",
            "style": "IPY_MODEL_b0d7dcc880f84c6eacae114000555c5a",
            "value": " 651k/651k [00:00&lt;00:00, 11.9MB/s]"
          }
        },
        "8eb75e80846e4d0fa168e6ef09da9e0f": {
          "model_module": "@jupyter-widgets/controls",
          "model_module_version": "1.5.0",
          "model_name": "DescriptionStyleModel",
          "state": {
            "_model_module": "@jupyter-widgets/controls",
            "_model_module_version": "1.5.0",
            "_model_name": "DescriptionStyleModel",
            "_view_count": null,
            "_view_module": "@jupyter-widgets/base",
            "_view_module_version": "1.2.0",
            "_view_name": "StyleView",
            "description_width": ""
          }
        },
        "8ec44dcb15634a76a2d414ae7ba97bd6": {
          "model_module": "@jupyter-widgets/base",
          "model_module_version": "1.2.0",
          "model_name": "LayoutModel",
          "state": {
            "_model_module": "@jupyter-widgets/base",
            "_model_module_version": "1.2.0",
            "_model_name": "LayoutModel",
            "_view_count": null,
            "_view_module": "@jupyter-widgets/base",
            "_view_module_version": "1.2.0",
            "_view_name": "LayoutView",
            "align_content": null,
            "align_items": null,
            "align_self": null,
            "border": null,
            "bottom": null,
            "display": null,
            "flex": null,
            "flex_flow": null,
            "grid_area": null,
            "grid_auto_columns": null,
            "grid_auto_flow": null,
            "grid_auto_rows": null,
            "grid_column": null,
            "grid_gap": null,
            "grid_row": null,
            "grid_template_areas": null,
            "grid_template_columns": null,
            "grid_template_rows": null,
            "height": null,
            "justify_content": null,
            "justify_items": null,
            "left": null,
            "margin": null,
            "max_height": null,
            "max_width": null,
            "min_height": null,
            "min_width": null,
            "object_fit": null,
            "object_position": null,
            "order": null,
            "overflow": null,
            "overflow_x": null,
            "overflow_y": null,
            "padding": null,
            "right": null,
            "top": null,
            "visibility": null,
            "width": null
          }
        },
        "99012e7aaae84e91ae2eaf5c48271786": {
          "model_module": "@jupyter-widgets/base",
          "model_module_version": "1.2.0",
          "model_name": "LayoutModel",
          "state": {
            "_model_module": "@jupyter-widgets/base",
            "_model_module_version": "1.2.0",
            "_model_name": "LayoutModel",
            "_view_count": null,
            "_view_module": "@jupyter-widgets/base",
            "_view_module_version": "1.2.0",
            "_view_name": "LayoutView",
            "align_content": null,
            "align_items": null,
            "align_self": null,
            "border": null,
            "bottom": null,
            "display": null,
            "flex": null,
            "flex_flow": null,
            "grid_area": null,
            "grid_auto_columns": null,
            "grid_auto_flow": null,
            "grid_auto_rows": null,
            "grid_column": null,
            "grid_gap": null,
            "grid_row": null,
            "grid_template_areas": null,
            "grid_template_columns": null,
            "grid_template_rows": null,
            "height": null,
            "justify_content": null,
            "justify_items": null,
            "left": null,
            "margin": null,
            "max_height": null,
            "max_width": null,
            "min_height": null,
            "min_width": null,
            "object_fit": null,
            "object_position": null,
            "order": null,
            "overflow": null,
            "overflow_x": null,
            "overflow_y": null,
            "padding": null,
            "right": null,
            "top": null,
            "visibility": null,
            "width": null
          }
        },
        "9af95c292b9a444cac0daca4d98e926f": {
          "model_module": "@jupyter-widgets/controls",
          "model_module_version": "1.5.0",
          "model_name": "HTMLModel",
          "state": {
            "_dom_classes": [],
            "_model_module": "@jupyter-widgets/controls",
            "_model_module_version": "1.5.0",
            "_model_name": "HTMLModel",
            "_view_count": null,
            "_view_module": "@jupyter-widgets/controls",
            "_view_module_version": "1.5.0",
            "_view_name": "HTMLView",
            "description": "",
            "description_tooltip": null,
            "layout": "IPY_MODEL_e9a6eaf7d75b41388871ddc0f952463c",
            "placeholder": "​",
            "style": "IPY_MODEL_85524d03f2b34daa930d515f2c34f63e",
            "value": "Downloading https://huggingface.co/stanfordnlp/stanza-en/resolve/v1.8.0/models/pretrain/conll17.pt: 100%"
          }
        },
        "9ef99bdbbae044d6a58bcbf0f279894f": {
          "model_module": "@jupyter-widgets/controls",
          "model_module_version": "1.5.0",
          "model_name": "DescriptionStyleModel",
          "state": {
            "_model_module": "@jupyter-widgets/controls",
            "_model_module_version": "1.5.0",
            "_model_name": "DescriptionStyleModel",
            "_view_count": null,
            "_view_module": "@jupyter-widgets/base",
            "_view_module_version": "1.2.0",
            "_view_name": "StyleView",
            "description_width": ""
          }
        },
        "a0f0b1d011c94daf9c66740ff2c3f098": {
          "model_module": "@jupyter-widgets/base",
          "model_module_version": "1.2.0",
          "model_name": "LayoutModel",
          "state": {
            "_model_module": "@jupyter-widgets/base",
            "_model_module_version": "1.2.0",
            "_model_name": "LayoutModel",
            "_view_count": null,
            "_view_module": "@jupyter-widgets/base",
            "_view_module_version": "1.2.0",
            "_view_name": "LayoutView",
            "align_content": null,
            "align_items": null,
            "align_self": null,
            "border": null,
            "bottom": null,
            "display": null,
            "flex": null,
            "flex_flow": null,
            "grid_area": null,
            "grid_auto_columns": null,
            "grid_auto_flow": null,
            "grid_auto_rows": null,
            "grid_column": null,
            "grid_gap": null,
            "grid_row": null,
            "grid_template_areas": null,
            "grid_template_columns": null,
            "grid_template_rows": null,
            "height": null,
            "justify_content": null,
            "justify_items": null,
            "left": null,
            "margin": null,
            "max_height": null,
            "max_width": null,
            "min_height": null,
            "min_width": null,
            "object_fit": null,
            "object_position": null,
            "order": null,
            "overflow": null,
            "overflow_x": null,
            "overflow_y": null,
            "padding": null,
            "right": null,
            "top": null,
            "visibility": null,
            "width": null
          }
        },
        "a7db4ebded034c5fa04c147791da3eb4": {
          "model_module": "@jupyter-widgets/base",
          "model_module_version": "1.2.0",
          "model_name": "LayoutModel",
          "state": {
            "_model_module": "@jupyter-widgets/base",
            "_model_module_version": "1.2.0",
            "_model_name": "LayoutModel",
            "_view_count": null,
            "_view_module": "@jupyter-widgets/base",
            "_view_module_version": "1.2.0",
            "_view_name": "LayoutView",
            "align_content": null,
            "align_items": null,
            "align_self": null,
            "border": null,
            "bottom": null,
            "display": null,
            "flex": null,
            "flex_flow": null,
            "grid_area": null,
            "grid_auto_columns": null,
            "grid_auto_flow": null,
            "grid_auto_rows": null,
            "grid_column": null,
            "grid_gap": null,
            "grid_row": null,
            "grid_template_areas": null,
            "grid_template_columns": null,
            "grid_template_rows": null,
            "height": null,
            "justify_content": null,
            "justify_items": null,
            "left": null,
            "margin": null,
            "max_height": null,
            "max_width": null,
            "min_height": null,
            "min_width": null,
            "object_fit": null,
            "object_position": null,
            "order": null,
            "overflow": null,
            "overflow_x": null,
            "overflow_y": null,
            "padding": null,
            "right": null,
            "top": null,
            "visibility": null,
            "width": null
          }
        },
        "aa5f6c6831bc41529668dbde897c099c": {
          "model_module": "@jupyter-widgets/base",
          "model_module_version": "1.2.0",
          "model_name": "LayoutModel",
          "state": {
            "_model_module": "@jupyter-widgets/base",
            "_model_module_version": "1.2.0",
            "_model_name": "LayoutModel",
            "_view_count": null,
            "_view_module": "@jupyter-widgets/base",
            "_view_module_version": "1.2.0",
            "_view_name": "LayoutView",
            "align_content": null,
            "align_items": null,
            "align_self": null,
            "border": null,
            "bottom": null,
            "display": null,
            "flex": null,
            "flex_flow": null,
            "grid_area": null,
            "grid_auto_columns": null,
            "grid_auto_flow": null,
            "grid_auto_rows": null,
            "grid_column": null,
            "grid_gap": null,
            "grid_row": null,
            "grid_template_areas": null,
            "grid_template_columns": null,
            "grid_template_rows": null,
            "height": null,
            "justify_content": null,
            "justify_items": null,
            "left": null,
            "margin": null,
            "max_height": null,
            "max_width": null,
            "min_height": null,
            "min_width": null,
            "object_fit": null,
            "object_position": null,
            "order": null,
            "overflow": null,
            "overflow_x": null,
            "overflow_y": null,
            "padding": null,
            "right": null,
            "top": null,
            "visibility": null,
            "width": null
          }
        },
        "aa7cfac3a7cc45a39250aa203f9f431a": {
          "model_module": "@jupyter-widgets/controls",
          "model_module_version": "1.5.0",
          "model_name": "ProgressStyleModel",
          "state": {
            "_model_module": "@jupyter-widgets/controls",
            "_model_module_version": "1.5.0",
            "_model_name": "ProgressStyleModel",
            "_view_count": null,
            "_view_module": "@jupyter-widgets/base",
            "_view_module_version": "1.2.0",
            "_view_name": "StyleView",
            "bar_color": null,
            "description_width": ""
          }
        },
        "afc2f3426ac04238ac3c6394e87dcf10": {
          "model_module": "@jupyter-widgets/controls",
          "model_module_version": "1.5.0",
          "model_name": "HTMLModel",
          "state": {
            "_dom_classes": [],
            "_model_module": "@jupyter-widgets/controls",
            "_model_module_version": "1.5.0",
            "_model_name": "HTMLModel",
            "_view_count": null,
            "_view_module": "@jupyter-widgets/controls",
            "_view_module_version": "1.5.0",
            "_view_name": "HTMLView",
            "description": "",
            "description_tooltip": null,
            "layout": "IPY_MODEL_b2e509c3a28841ea9a8e2806542fb496",
            "placeholder": "​",
            "style": "IPY_MODEL_6be790bcba09499c8e5a93ea14cd8778",
            "value": " 107M/107M [00:00&lt;00:00, 258MB/s]"
          }
        },
        "b0d7dcc880f84c6eacae114000555c5a": {
          "model_module": "@jupyter-widgets/controls",
          "model_module_version": "1.5.0",
          "model_name": "DescriptionStyleModel",
          "state": {
            "_model_module": "@jupyter-widgets/controls",
            "_model_module_version": "1.5.0",
            "_model_name": "DescriptionStyleModel",
            "_view_count": null,
            "_view_module": "@jupyter-widgets/base",
            "_view_module_version": "1.2.0",
            "_view_name": "StyleView",
            "description_width": ""
          }
        },
        "b2e509c3a28841ea9a8e2806542fb496": {
          "model_module": "@jupyter-widgets/base",
          "model_module_version": "1.2.0",
          "model_name": "LayoutModel",
          "state": {
            "_model_module": "@jupyter-widgets/base",
            "_model_module_version": "1.2.0",
            "_model_name": "LayoutModel",
            "_view_count": null,
            "_view_module": "@jupyter-widgets/base",
            "_view_module_version": "1.2.0",
            "_view_name": "LayoutView",
            "align_content": null,
            "align_items": null,
            "align_self": null,
            "border": null,
            "bottom": null,
            "display": null,
            "flex": null,
            "flex_flow": null,
            "grid_area": null,
            "grid_auto_columns": null,
            "grid_auto_flow": null,
            "grid_auto_rows": null,
            "grid_column": null,
            "grid_gap": null,
            "grid_row": null,
            "grid_template_areas": null,
            "grid_template_columns": null,
            "grid_template_rows": null,
            "height": null,
            "justify_content": null,
            "justify_items": null,
            "left": null,
            "margin": null,
            "max_height": null,
            "max_width": null,
            "min_height": null,
            "min_width": null,
            "object_fit": null,
            "object_position": null,
            "order": null,
            "overflow": null,
            "overflow_x": null,
            "overflow_y": null,
            "padding": null,
            "right": null,
            "top": null,
            "visibility": null,
            "width": null
          }
        },
        "bb0291e8d1534dd4841a4a9ff969c48b": {
          "model_module": "@jupyter-widgets/controls",
          "model_module_version": "1.5.0",
          "model_name": "DescriptionStyleModel",
          "state": {
            "_model_module": "@jupyter-widgets/controls",
            "_model_module_version": "1.5.0",
            "_model_name": "DescriptionStyleModel",
            "_view_count": null,
            "_view_module": "@jupyter-widgets/base",
            "_view_module_version": "1.2.0",
            "_view_name": "StyleView",
            "description_width": ""
          }
        },
        "bcbcd50320284beeac6cfb7a461bedcc": {
          "model_module": "@jupyter-widgets/controls",
          "model_module_version": "1.5.0",
          "model_name": "HBoxModel",
          "state": {
            "_dom_classes": [],
            "_model_module": "@jupyter-widgets/controls",
            "_model_module_version": "1.5.0",
            "_model_name": "HBoxModel",
            "_view_count": null,
            "_view_module": "@jupyter-widgets/controls",
            "_view_module_version": "1.5.0",
            "_view_name": "HBoxView",
            "box_style": "",
            "children": [
              "IPY_MODEL_4a95334d50704a48aa62394cd620484f",
              "IPY_MODEL_5436b424d480498f9096ef4ff26e0f59",
              "IPY_MODEL_8c7f5cf922784ef993125bfe33c2979a"
            ],
            "layout": "IPY_MODEL_4d63d54e7899473e90410da9e0c11eb9"
          }
        },
        "c097b3dd23b74bd986ff31dc066c6380": {
          "model_module": "@jupyter-widgets/base",
          "model_module_version": "1.2.0",
          "model_name": "LayoutModel",
          "state": {
            "_model_module": "@jupyter-widgets/base",
            "_model_module_version": "1.2.0",
            "_model_name": "LayoutModel",
            "_view_count": null,
            "_view_module": "@jupyter-widgets/base",
            "_view_module_version": "1.2.0",
            "_view_name": "LayoutView",
            "align_content": null,
            "align_items": null,
            "align_self": null,
            "border": null,
            "bottom": null,
            "display": null,
            "flex": null,
            "flex_flow": null,
            "grid_area": null,
            "grid_auto_columns": null,
            "grid_auto_flow": null,
            "grid_auto_rows": null,
            "grid_column": null,
            "grid_gap": null,
            "grid_row": null,
            "grid_template_areas": null,
            "grid_template_columns": null,
            "grid_template_rows": null,
            "height": null,
            "justify_content": null,
            "justify_items": null,
            "left": null,
            "margin": null,
            "max_height": null,
            "max_width": null,
            "min_height": null,
            "min_width": null,
            "object_fit": null,
            "object_position": null,
            "order": null,
            "overflow": null,
            "overflow_x": null,
            "overflow_y": null,
            "padding": null,
            "right": null,
            "top": null,
            "visibility": null,
            "width": null
          }
        },
        "c0f3d95e2b024056845000c81d94ed0b": {
          "model_module": "@jupyter-widgets/controls",
          "model_module_version": "1.5.0",
          "model_name": "HTMLModel",
          "state": {
            "_dom_classes": [],
            "_model_module": "@jupyter-widgets/controls",
            "_model_module_version": "1.5.0",
            "_model_name": "HTMLModel",
            "_view_count": null,
            "_view_module": "@jupyter-widgets/controls",
            "_view_module_version": "1.5.0",
            "_view_name": "HTMLView",
            "description": "",
            "description_tooltip": null,
            "layout": "IPY_MODEL_32c55f5f18b445eaa57bfe46f4a33721",
            "placeholder": "​",
            "style": "IPY_MODEL_f2c60b37f6df45778b8308dbc21e5990",
            "value": " 65.7M/65.7M [00:00&lt;00:00, 126MB/s]"
          }
        },
        "c2dd568d11b546c0a53b93bebc40c2d2": {
          "model_module": "@jupyter-widgets/controls",
          "model_module_version": "1.5.0",
          "model_name": "HBoxModel",
          "state": {
            "_dom_classes": [],
            "_model_module": "@jupyter-widgets/controls",
            "_model_module_version": "1.5.0",
            "_model_name": "HBoxModel",
            "_view_count": null,
            "_view_module": "@jupyter-widgets/controls",
            "_view_module_version": "1.5.0",
            "_view_name": "HBoxView",
            "box_style": "",
            "children": [
              "IPY_MODEL_28faf9b8149e4ff889942fa78eb4e05a",
              "IPY_MODEL_8a02a36a63ef40c3b7a8c6537bd80895",
              "IPY_MODEL_c0f3d95e2b024056845000c81d94ed0b"
            ],
            "layout": "IPY_MODEL_765719cb5272435cb4752adbee60a9d2"
          }
        },
        "c434dd1c18d241d6a15d6f3268e76dc7": {
          "model_module": "@jupyter-widgets/controls",
          "model_module_version": "1.5.0",
          "model_name": "ProgressStyleModel",
          "state": {
            "_model_module": "@jupyter-widgets/controls",
            "_model_module_version": "1.5.0",
            "_model_name": "ProgressStyleModel",
            "_view_count": null,
            "_view_module": "@jupyter-widgets/base",
            "_view_module_version": "1.2.0",
            "_view_name": "StyleView",
            "bar_color": null,
            "description_width": ""
          }
        },
        "c55556d320e74e3dab1351118f7d5468": {
          "model_module": "@jupyter-widgets/base",
          "model_module_version": "1.2.0",
          "model_name": "LayoutModel",
          "state": {
            "_model_module": "@jupyter-widgets/base",
            "_model_module_version": "1.2.0",
            "_model_name": "LayoutModel",
            "_view_count": null,
            "_view_module": "@jupyter-widgets/base",
            "_view_module_version": "1.2.0",
            "_view_name": "LayoutView",
            "align_content": null,
            "align_items": null,
            "align_self": null,
            "border": null,
            "bottom": null,
            "display": null,
            "flex": null,
            "flex_flow": null,
            "grid_area": null,
            "grid_auto_columns": null,
            "grid_auto_flow": null,
            "grid_auto_rows": null,
            "grid_column": null,
            "grid_gap": null,
            "grid_row": null,
            "grid_template_areas": null,
            "grid_template_columns": null,
            "grid_template_rows": null,
            "height": null,
            "justify_content": null,
            "justify_items": null,
            "left": null,
            "margin": null,
            "max_height": null,
            "max_width": null,
            "min_height": null,
            "min_width": null,
            "object_fit": null,
            "object_position": null,
            "order": null,
            "overflow": null,
            "overflow_x": null,
            "overflow_y": null,
            "padding": null,
            "right": null,
            "top": null,
            "visibility": null,
            "width": null
          }
        },
        "c720562e5c6047d49beb8e619b780816": {
          "model_module": "@jupyter-widgets/controls",
          "model_module_version": "1.5.0",
          "model_name": "FloatProgressModel",
          "state": {
            "_dom_classes": [],
            "_model_module": "@jupyter-widgets/controls",
            "_model_module_version": "1.5.0",
            "_model_name": "FloatProgressModel",
            "_view_count": null,
            "_view_module": "@jupyter-widgets/controls",
            "_view_module_version": "1.5.0",
            "_view_name": "ProgressView",
            "bar_style": "success",
            "description": "",
            "description_tooltip": null,
            "layout": "IPY_MODEL_6adb581672794dc6b52f7981ce887a2b",
            "max": 47208,
            "min": 0,
            "orientation": "horizontal",
            "style": "IPY_MODEL_856943146fde46ce85a3640955ff8ed0",
            "value": 47208
          }
        },
        "c9fb43116fea41efb03e9243a3d0a7dc": {
          "model_module": "@jupyter-widgets/controls",
          "model_module_version": "1.5.0",
          "model_name": "DescriptionStyleModel",
          "state": {
            "_model_module": "@jupyter-widgets/controls",
            "_model_module_version": "1.5.0",
            "_model_name": "DescriptionStyleModel",
            "_view_count": null,
            "_view_module": "@jupyter-widgets/base",
            "_view_module_version": "1.2.0",
            "_view_name": "StyleView",
            "description_width": ""
          }
        },
        "cdcf7088f2d24b64bb5f8adb3f586ab5": {
          "model_module": "@jupyter-widgets/base",
          "model_module_version": "1.2.0",
          "model_name": "LayoutModel",
          "state": {
            "_model_module": "@jupyter-widgets/base",
            "_model_module_version": "1.2.0",
            "_model_name": "LayoutModel",
            "_view_count": null,
            "_view_module": "@jupyter-widgets/base",
            "_view_module_version": "1.2.0",
            "_view_name": "LayoutView",
            "align_content": null,
            "align_items": null,
            "align_self": null,
            "border": null,
            "bottom": null,
            "display": null,
            "flex": null,
            "flex_flow": null,
            "grid_area": null,
            "grid_auto_columns": null,
            "grid_auto_flow": null,
            "grid_auto_rows": null,
            "grid_column": null,
            "grid_gap": null,
            "grid_row": null,
            "grid_template_areas": null,
            "grid_template_columns": null,
            "grid_template_rows": null,
            "height": null,
            "justify_content": null,
            "justify_items": null,
            "left": null,
            "margin": null,
            "max_height": null,
            "max_width": null,
            "min_height": null,
            "min_width": null,
            "object_fit": null,
            "object_position": null,
            "order": null,
            "overflow": null,
            "overflow_x": null,
            "overflow_y": null,
            "padding": null,
            "right": null,
            "top": null,
            "visibility": null,
            "width": null
          }
        },
        "cedf661f88f3472d832b34a2380c93fe": {
          "model_module": "@jupyter-widgets/controls",
          "model_module_version": "1.5.0",
          "model_name": "DescriptionStyleModel",
          "state": {
            "_model_module": "@jupyter-widgets/controls",
            "_model_module_version": "1.5.0",
            "_model_name": "DescriptionStyleModel",
            "_view_count": null,
            "_view_module": "@jupyter-widgets/base",
            "_view_module_version": "1.2.0",
            "_view_name": "StyleView",
            "description_width": ""
          }
        },
        "d0a355088d84489ebd65fd9d34bd923a": {
          "model_module": "@jupyter-widgets/base",
          "model_module_version": "1.2.0",
          "model_name": "LayoutModel",
          "state": {
            "_model_module": "@jupyter-widgets/base",
            "_model_module_version": "1.2.0",
            "_model_name": "LayoutModel",
            "_view_count": null,
            "_view_module": "@jupyter-widgets/base",
            "_view_module_version": "1.2.0",
            "_view_name": "LayoutView",
            "align_content": null,
            "align_items": null,
            "align_self": null,
            "border": null,
            "bottom": null,
            "display": null,
            "flex": null,
            "flex_flow": null,
            "grid_area": null,
            "grid_auto_columns": null,
            "grid_auto_flow": null,
            "grid_auto_rows": null,
            "grid_column": null,
            "grid_gap": null,
            "grid_row": null,
            "grid_template_areas": null,
            "grid_template_columns": null,
            "grid_template_rows": null,
            "height": null,
            "justify_content": null,
            "justify_items": null,
            "left": null,
            "margin": null,
            "max_height": null,
            "max_width": null,
            "min_height": null,
            "min_width": null,
            "object_fit": null,
            "object_position": null,
            "order": null,
            "overflow": null,
            "overflow_x": null,
            "overflow_y": null,
            "padding": null,
            "right": null,
            "top": null,
            "visibility": null,
            "width": null
          }
        },
        "d1c4517bc7ad4c9d9de7be4cb14444d8": {
          "model_module": "@jupyter-widgets/base",
          "model_module_version": "1.2.0",
          "model_name": "LayoutModel",
          "state": {
            "_model_module": "@jupyter-widgets/base",
            "_model_module_version": "1.2.0",
            "_model_name": "LayoutModel",
            "_view_count": null,
            "_view_module": "@jupyter-widgets/base",
            "_view_module_version": "1.2.0",
            "_view_name": "LayoutView",
            "align_content": null,
            "align_items": null,
            "align_self": null,
            "border": null,
            "bottom": null,
            "display": null,
            "flex": null,
            "flex_flow": null,
            "grid_area": null,
            "grid_auto_columns": null,
            "grid_auto_flow": null,
            "grid_auto_rows": null,
            "grid_column": null,
            "grid_gap": null,
            "grid_row": null,
            "grid_template_areas": null,
            "grid_template_columns": null,
            "grid_template_rows": null,
            "height": null,
            "justify_content": null,
            "justify_items": null,
            "left": null,
            "margin": null,
            "max_height": null,
            "max_width": null,
            "min_height": null,
            "min_width": null,
            "object_fit": null,
            "object_position": null,
            "order": null,
            "overflow": null,
            "overflow_x": null,
            "overflow_y": null,
            "padding": null,
            "right": null,
            "top": null,
            "visibility": null,
            "width": null
          }
        },
        "ddf20cea0161483c85c5989bcd50952b": {
          "model_module": "@jupyter-widgets/controls",
          "model_module_version": "1.5.0",
          "model_name": "ProgressStyleModel",
          "state": {
            "_model_module": "@jupyter-widgets/controls",
            "_model_module_version": "1.5.0",
            "_model_name": "ProgressStyleModel",
            "_view_count": null,
            "_view_module": "@jupyter-widgets/base",
            "_view_module_version": "1.2.0",
            "_view_name": "StyleView",
            "bar_color": null,
            "description_width": ""
          }
        },
        "dfe9d0b50a8e42d7b6e42bbeb7d5c6b5": {
          "model_module": "@jupyter-widgets/controls",
          "model_module_version": "1.5.0",
          "model_name": "ProgressStyleModel",
          "state": {
            "_model_module": "@jupyter-widgets/controls",
            "_model_module_version": "1.5.0",
            "_model_name": "ProgressStyleModel",
            "_view_count": null,
            "_view_module": "@jupyter-widgets/base",
            "_view_module_version": "1.2.0",
            "_view_name": "StyleView",
            "bar_color": null,
            "description_width": ""
          }
        },
        "e1de369b51f34d7abd017d2c5d47fba8": {
          "model_module": "@jupyter-widgets/controls",
          "model_module_version": "1.5.0",
          "model_name": "FloatProgressModel",
          "state": {
            "_dom_classes": [],
            "_model_module": "@jupyter-widgets/controls",
            "_model_module_version": "1.5.0",
            "_model_name": "FloatProgressModel",
            "_view_count": null,
            "_view_module": "@jupyter-widgets/controls",
            "_view_module_version": "1.5.0",
            "_view_name": "ProgressView",
            "bar_style": "success",
            "description": "",
            "description_tooltip": null,
            "layout": "IPY_MODEL_c55556d320e74e3dab1351118f7d5468",
            "max": 80439871,
            "min": 0,
            "orientation": "horizontal",
            "style": "IPY_MODEL_c434dd1c18d241d6a15d6f3268e76dc7",
            "value": 80439871
          }
        },
        "e399aaf1ff784a37a4a37089a989baea": {
          "model_module": "@jupyter-widgets/controls",
          "model_module_version": "1.5.0",
          "model_name": "DescriptionStyleModel",
          "state": {
            "_model_module": "@jupyter-widgets/controls",
            "_model_module_version": "1.5.0",
            "_model_name": "DescriptionStyleModel",
            "_view_count": null,
            "_view_module": "@jupyter-widgets/base",
            "_view_module_version": "1.2.0",
            "_view_name": "StyleView",
            "description_width": ""
          }
        },
        "e9a6eaf7d75b41388871ddc0f952463c": {
          "model_module": "@jupyter-widgets/base",
          "model_module_version": "1.2.0",
          "model_name": "LayoutModel",
          "state": {
            "_model_module": "@jupyter-widgets/base",
            "_model_module_version": "1.2.0",
            "_model_name": "LayoutModel",
            "_view_count": null,
            "_view_module": "@jupyter-widgets/base",
            "_view_module_version": "1.2.0",
            "_view_name": "LayoutView",
            "align_content": null,
            "align_items": null,
            "align_self": null,
            "border": null,
            "bottom": null,
            "display": null,
            "flex": null,
            "flex_flow": null,
            "grid_area": null,
            "grid_auto_columns": null,
            "grid_auto_flow": null,
            "grid_auto_rows": null,
            "grid_column": null,
            "grid_gap": null,
            "grid_row": null,
            "grid_template_areas": null,
            "grid_template_columns": null,
            "grid_template_rows": null,
            "height": null,
            "justify_content": null,
            "justify_items": null,
            "left": null,
            "margin": null,
            "max_height": null,
            "max_width": null,
            "min_height": null,
            "min_width": null,
            "object_fit": null,
            "object_position": null,
            "order": null,
            "overflow": null,
            "overflow_x": null,
            "overflow_y": null,
            "padding": null,
            "right": null,
            "top": null,
            "visibility": null,
            "width": null
          }
        },
        "ec324b14eb274a6a82514c337468bf89": {
          "model_module": "@jupyter-widgets/controls",
          "model_module_version": "1.5.0",
          "model_name": "FloatProgressModel",
          "state": {
            "_dom_classes": [],
            "_model_module": "@jupyter-widgets/controls",
            "_model_module_version": "1.5.0",
            "_model_name": "FloatProgressModel",
            "_view_count": null,
            "_view_module": "@jupyter-widgets/controls",
            "_view_module_version": "1.5.0",
            "_view_name": "ProgressView",
            "bar_style": "success",
            "description": "",
            "description_tooltip": null,
            "layout": "IPY_MODEL_a0f0b1d011c94daf9c66740ff2c3f098",
            "max": 615741,
            "min": 0,
            "orientation": "horizontal",
            "style": "IPY_MODEL_dfe9d0b50a8e42d7b6e42bbeb7d5c6b5",
            "value": 615741
          }
        },
        "ef64841f5fec4d7d876df9da5fcae61e": {
          "model_module": "@jupyter-widgets/controls",
          "model_module_version": "1.5.0",
          "model_name": "DescriptionStyleModel",
          "state": {
            "_model_module": "@jupyter-widgets/controls",
            "_model_module_version": "1.5.0",
            "_model_name": "DescriptionStyleModel",
            "_view_count": null,
            "_view_module": "@jupyter-widgets/base",
            "_view_module_version": "1.2.0",
            "_view_name": "StyleView",
            "description_width": ""
          }
        },
        "efe321098d7542cabc35e22c4755c166": {
          "model_module": "@jupyter-widgets/controls",
          "model_module_version": "1.5.0",
          "model_name": "HBoxModel",
          "state": {
            "_dom_classes": [],
            "_model_module": "@jupyter-widgets/controls",
            "_model_module_version": "1.5.0",
            "_model_name": "HBoxModel",
            "_view_count": null,
            "_view_module": "@jupyter-widgets/controls",
            "_view_module_version": "1.5.0",
            "_view_name": "HBoxView",
            "box_style": "",
            "children": [
              "IPY_MODEL_f884b7cfe5df4520b2b37ffa4dff5e6f",
              "IPY_MODEL_c720562e5c6047d49beb8e619b780816",
              "IPY_MODEL_fa79db531b484438922e27d1355b3a4e"
            ],
            "layout": "IPY_MODEL_99012e7aaae84e91ae2eaf5c48271786"
          }
        },
        "f1e3bc6c6b964ff19bc1ab3b5967b873": {
          "model_module": "@jupyter-widgets/base",
          "model_module_version": "1.2.0",
          "model_name": "LayoutModel",
          "state": {
            "_model_module": "@jupyter-widgets/base",
            "_model_module_version": "1.2.0",
            "_model_name": "LayoutModel",
            "_view_count": null,
            "_view_module": "@jupyter-widgets/base",
            "_view_module_version": "1.2.0",
            "_view_name": "LayoutView",
            "align_content": null,
            "align_items": null,
            "align_self": null,
            "border": null,
            "bottom": null,
            "display": null,
            "flex": null,
            "flex_flow": null,
            "grid_area": null,
            "grid_auto_columns": null,
            "grid_auto_flow": null,
            "grid_auto_rows": null,
            "grid_column": null,
            "grid_gap": null,
            "grid_row": null,
            "grid_template_areas": null,
            "grid_template_columns": null,
            "grid_template_rows": null,
            "height": null,
            "justify_content": null,
            "justify_items": null,
            "left": null,
            "margin": null,
            "max_height": null,
            "max_width": null,
            "min_height": null,
            "min_width": null,
            "object_fit": null,
            "object_position": null,
            "order": null,
            "overflow": null,
            "overflow_x": null,
            "overflow_y": null,
            "padding": null,
            "right": null,
            "top": null,
            "visibility": null,
            "width": null
          }
        },
        "f2c60b37f6df45778b8308dbc21e5990": {
          "model_module": "@jupyter-widgets/controls",
          "model_module_version": "1.5.0",
          "model_name": "DescriptionStyleModel",
          "state": {
            "_model_module": "@jupyter-widgets/controls",
            "_model_module_version": "1.5.0",
            "_model_name": "DescriptionStyleModel",
            "_view_count": null,
            "_view_module": "@jupyter-widgets/base",
            "_view_module_version": "1.2.0",
            "_view_name": "StyleView",
            "description_width": ""
          }
        },
        "f7184b15e562491d94aa8bbb014d8a8d": {
          "model_module": "@jupyter-widgets/controls",
          "model_module_version": "1.5.0",
          "model_name": "HTMLModel",
          "state": {
            "_dom_classes": [],
            "_model_module": "@jupyter-widgets/controls",
            "_model_module_version": "1.5.0",
            "_model_name": "HTMLModel",
            "_view_count": null,
            "_view_module": "@jupyter-widgets/controls",
            "_view_module_version": "1.5.0",
            "_view_name": "HTMLView",
            "description": "",
            "description_tooltip": null,
            "layout": "IPY_MODEL_5e9269de55134f38ade109b4751607ea",
            "placeholder": "​",
            "style": "IPY_MODEL_ef64841f5fec4d7d876df9da5fcae61e",
            "value": " 80.4M/80.4M [00:00&lt;00:00, 271MB/s]"
          }
        },
        "f884b7cfe5df4520b2b37ffa4dff5e6f": {
          "model_module": "@jupyter-widgets/controls",
          "model_module_version": "1.5.0",
          "model_name": "HTMLModel",
          "state": {
            "_dom_classes": [],
            "_model_module": "@jupyter-widgets/controls",
            "_model_module_version": "1.5.0",
            "_model_name": "HTMLModel",
            "_view_count": null,
            "_view_module": "@jupyter-widgets/controls",
            "_view_module_version": "1.5.0",
            "_view_name": "HTMLView",
            "description": "",
            "description_tooltip": null,
            "layout": "IPY_MODEL_d1c4517bc7ad4c9d9de7be4cb14444d8",
            "placeholder": "​",
            "style": "IPY_MODEL_5923d4014f28451ca5021cdc970d4db9",
            "value": "Downloading https://raw.githubusercontent.com/stanfordnlp/stanza-resources/main/resources_1.8.0.json: "
          }
        },
        "fa79db531b484438922e27d1355b3a4e": {
          "model_module": "@jupyter-widgets/controls",
          "model_module_version": "1.5.0",
          "model_name": "HTMLModel",
          "state": {
            "_dom_classes": [],
            "_model_module": "@jupyter-widgets/controls",
            "_model_module_version": "1.5.0",
            "_model_name": "HTMLModel",
            "_view_count": null,
            "_view_module": "@jupyter-widgets/controls",
            "_view_module_version": "1.5.0",
            "_view_name": "HTMLView",
            "description": "",
            "description_tooltip": null,
            "layout": "IPY_MODEL_cdcf7088f2d24b64bb5f8adb3f586ab5",
            "placeholder": "​",
            "style": "IPY_MODEL_8eb75e80846e4d0fa168e6ef09da9e0f",
            "value": " 379k/? [00:00&lt;00:00, 7.46MB/s]"
          }
        }
      }
    }
  },
  "nbformat": 4,
  "nbformat_minor": 0
}
